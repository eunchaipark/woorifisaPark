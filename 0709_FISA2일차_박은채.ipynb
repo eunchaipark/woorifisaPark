{
 "cells": [
  {
   "cell_type": "code",
   "execution_count": 4,
   "metadata": {},
   "outputs": [
    {
     "name": "stdout",
     "output_type": "stream",
     "text": [
      "Python 3.12.3\n"
     ]
    },
    {
     "data": {
      "text/plain": [
       "2"
      ]
     },
     "execution_count": 4,
     "metadata": {},
     "output_type": "execute_result"
    }
   ],
   "source": [
    "!python --version\n",
    "1+1\n",
    "# ! (셸 커맨드)\n",
    "# 셸(Shell)에서 실행되며, 따라서 리눅스 기반의 명령어들을 사용할 수 있습니다."
   ]
  },
  {
   "cell_type": "markdown",
   "metadata": {},
   "source": [
    "이름 규칙 -> 네이밍 컨벤션(convention)\n",
    "이름 규칙 _(밑줄)이 이름 앞에 있다면 _MY_list 처럼 함수내에서만 통용되는 지역 함수를 뜻한다.\n",
    "- my-list --> 케밥 케이스라 일컫고  URL\n",
    "- my_list --> 스네이크 케이스   파이썬\n",
    "- myListFolder ---> 낙타케이스 , 카멜케이스   자바\n",
    "- MyList -->  파스칼케이스  Class를 구분하기 위해서 첫글자를 대문자로 설정한다\n",
    "\n",
    "- _my_list --> 변수명 앞에 밑줄이 붙으면 함수 등의 내부에서만 사용되는 변수\n",
    "- import_ --> 변수명 뒤에 밑줄이 붙으면 라이브러리 혹은 파이썬 기본 키워드와의 충돌을 피하기 위함\n",
    "\n",
    "- 모듈명은 짧은 소문자로 구성되면 필요하다면 밑줄로 나눈다. my_module.py\n",
    "\n",
    "- 클래스명은 파스칼 케이스 로 작성한다 --> Class MyClass()\n",
    " \n"
   ]
  },
  {
   "cell_type": "code",
   "execution_count": 13,
   "metadata": {},
   "outputs": [
    {
     "name": "stdout",
     "output_type": "stream",
     "text": [
      "hello\n"
     ]
    },
    {
     "name": "stderr",
     "output_type": "stream",
     "text": [
      "UsageError: Line magic function `%` not found.\n"
     ]
    }
   ],
   "source": [
    "%%time\n",
    "print(\"hello\")\n",
    "# %, %%  특정 기능을 실행하도록 설계된 명령어입니다.  '%' 또는 '%%' 기호를 사용하여 실행됩니다. '%'는 한 줄에 대해, '%%'는 셀 전체에 대해 적용됩니다.\n",
    "# 코랩 혹은 주피터의 부가기능을 불러온다고 생각하면 된다.\n",
    "# 매직커맨드라고 일컫는다.\n",
    "1+1\n"
   ]
  },
  {
   "cell_type": "markdown",
   "metadata": {},
   "source": [
    "문자열의 개념\n",
    "인터프리터 언어(한줄한줄 코드를 읽고 실행)\n",
    "\n",
    "IDE의 개념\n",
    "컴퓨터의 구조에 대한 기초적인 개념(메모리등등)\n",
    "\n",
    "변수와 변수 명명법"
   ]
  },
  {
   "cell_type": "code",
   "execution_count": 23,
   "metadata": {},
   "outputs": [
    {
     "name": "stdout",
     "output_type": "stream",
     "text": [
      "This is a dog\n",
      "This is \n",
      "\n",
      "a dog\n"
     ]
    },
    {
     "data": {
      "text/plain": [
       "str"
      ]
     },
     "execution_count": 23,
     "metadata": {},
     "output_type": "execute_result"
    }
   ],
   "source": [
    "docs = 'This is a dog'\n",
    "print(docs)\n",
    "\n",
    "docs = \"\"\"This is \n",
    "\n",
    "a dog\"\"\"\n",
    "print(docs)\n",
    "\n",
    "id(docs) #주소값 확인\n",
    "type(docs)\n",
    "\n"
   ]
  },
  {
   "cell_type": "code",
   "execution_count": 32,
   "metadata": {},
   "outputs": [
    {
     "name": "stdout",
     "output_type": "stream",
     "text": [
      "20 10\n"
     ]
    }
   ],
   "source": [
    "# 변수의 값 교환\n",
    "a = 10\n",
    "b = 20\n",
    "c = b\n",
    "b = a\n",
    "a = c\n",
    "print(a, b)"
   ]
  },
  {
   "cell_type": "markdown",
   "metadata": {},
   "source": [
    "자료(DATA)의 형태(TYPE)\n",
    "- 자료, 스칼라 자료형의 개념\n",
    "- 숫자, 정수, 실수, 고정 소수점, 부동 소수점\n",
    "- 몰랐던 점  : 부동소수점의 오차 발생 2의 N제곱으로 딱 나뉘어 떨어지지 않을때 약간의 오차 발생\n",
    "- 고정 소수점 방식으로 실수를 사용하려면 --> decimal 모듈 사용"
   ]
  },
  {
   "cell_type": "code",
   "execution_count": 41,
   "metadata": {},
   "outputs": [
    {
     "data": {
      "text/plain": [
       "Decimal('0.3')"
      ]
     },
     "execution_count": 41,
     "metadata": {},
     "output_type": "execute_result"
    }
   ],
   "source": [
    "import decimal as de\n",
    "de.Decimal(0.1) + de.Decimal(0.2)\n",
    "de.Decimal('0.1') + de.Decimal('0.2')"
   ]
  },
  {
   "cell_type": "code",
   "execution_count": 45,
   "metadata": {},
   "outputs": [
    {
     "name": "stdout",
     "output_type": "stream",
     "text": [
      "100.0\n",
      "0.0001\n"
     ]
    }
   ],
   "source": [
    "print(0.1e3)\n",
    "print(0.1e-3)"
   ]
  },
  {
   "cell_type": "markdown",
   "metadata": {},
   "source": [
    "문자열 (String)의 기본 개념\n",
    "- 물랐던 점 : \"\"\" \"\"\" 멀티라인 \n",
    "\n",
    "- 문자열 이스케이프 충돌을 막기 위해서 역슬래시 \\ 뒤에 그 문자 혹은 그 문자를 의미하는 약어를 사용하는 방법으로 충돌을 피하는 것 : 이스케이핑이라고 부릅니다.\n",
    "ex) this\\'s a dog"
   ]
  },
  {
   "cell_type": "code",
   "execution_count": 48,
   "metadata": {},
   "outputs": [
    {
     "name": "stdout",
     "output_type": "stream",
     "text": [
      "this's a dog\n",
      "C:\\ITStudy\\01_pythonBasic\n"
     ]
    },
    {
     "name": "stderr",
     "output_type": "stream",
     "text": [
      "<>:2: SyntaxWarning: invalid escape sequence '\\I'\n",
      "<>:2: SyntaxWarning: invalid escape sequence '\\I'\n",
      "C:\\Users\\PARK\\AppData\\Local\\Temp\\ipykernel_2160\\2340565702.py:2: SyntaxWarning: invalid escape sequence '\\I'\n",
      "  print('C:\\ITStudy\\\\01_pythonBasic')\n"
     ]
    }
   ],
   "source": [
    "print('this\\'s a dog')\n",
    "print('C:\\ITStudy\\\\01_pythonBasic')"
   ]
  },
  {
   "cell_type": "markdown",
   "metadata": {},
   "source": [
    "사칙연산 (+, -, /, *)\n",
    "- 추가적인 사칙연산 : 지수연산(**) 몫연산 (//) 나머지 연산 (%)로 표기합니다.\n",
    "- 파이썬은 나누기는 float으로 나온다 정수와 정수의 나누기라고 할지라도\n",
    "\n",
    "논리 연산자\n",
    "\n",
    "- 파이썬은 자료형을 명시하지 않아도 인터프리터가 알아서 자료형을 지정해준다\n",
    "\n",
    "- 타입변환이 자유롭다."
   ]
  },
  {
   "cell_type": "code",
   "execution_count": 65,
   "metadata": {},
   "outputs": [
    {
     "data": {
      "text/plain": [
       "2232"
      ]
     },
     "execution_count": 65,
     "metadata": {},
     "output_type": "execute_result"
    }
   ],
   "source": [
    "int(float(str(2231.11)))\n",
    "int(round(float(str(2231.91))))"
   ]
  },
  {
   "cell_type": "markdown",
   "metadata": {},
   "source": [
    "컨테이너 자료형\n",
    "- 여러합형으로 나뉜다.\n",
    "\n",
    "시퀀스 \n",
    "- 리스트 [] : 리스트 안에 원개의 자료를 우너소로 묶어 하나의 변수에 담는 자료형들\n",
    "- 순서로 값을 관리하는 시퀀스 \n",
    "- 키-값으로 자룔를 관리하는 매핑\n",
    "- 키만으로 자료를 관리하는 집소들간의 순서가 있어서 인덱스를 붙여 각 원소를 호출한다\n",
    "- 튜플 (): 위와 마찬가지로 순서가 있지만 원소의 내용을 한번 설정이후에 변경할수 없다.\n",
    "- 레인지 : 정수 수열을 만든다. 원소의 내용을 변경 할수 없다. ex) 0,1,2,3..100만까지 라고 할때 하나당 4바이트를 할당하느니 하나를 호출할때마다 다음꺼를 하나 자리를 만들고 또 호출하는 형식"
   ]
  },
  {
   "cell_type": "code",
   "execution_count": 71,
   "metadata": {},
   "outputs": [
    {
     "name": "stdout",
     "output_type": "stream",
     "text": [
      "<class 'tuple'>\n",
      "<class 'range'>\n",
      "<class 'list'>\n",
      "[1, 3, 4, 5] range(0, 5) (1, 2, 3, 4, 5)\n"
     ]
    }
   ],
   "source": [
    "tu=(1,2,3,4,5)\n",
    "print(type(tu))\n",
    "ra = range(5) #레인지\n",
    "print(type(ra))\n",
    "li = [1,3,4,5]\n",
    "print(type(li))\n",
    "print(li, ra, tu)"
   ]
  },
  {
   "cell_type": "code",
   "execution_count": 75,
   "metadata": {},
   "outputs": [
    {
     "data": {
      "text/plain": [
       "True"
      ]
     },
     "execution_count": 75,
     "metadata": {},
     "output_type": "execute_result"
    }
   ],
   "source": [
    "a = 1\n",
    "b = 1.0\n",
    "c = '1'\n",
    "a == b #a is b 를하면 같은 메모리 주소를 공유하지 않기에 false가 나오지만 숫자는 서로 호환이 된다\n",
    "\n"
   ]
  },
  {
   "cell_type": "code",
   "execution_count": 81,
   "metadata": {},
   "outputs": [
    {
     "name": "stdout",
     "output_type": "stream",
     "text": [
      "[1, 23, ['a', 23], None]\n",
      "['a', 23]\n",
      "[1, 23, ['b', 45], None]\n"
     ]
    },
    {
     "ename": "TypeError",
     "evalue": "'tuple' object does not support item assignment",
     "output_type": "error",
     "traceback": [
      "\u001b[1;31m---------------------------------------------------------------------------\u001b[0m",
      "\u001b[1;31mTypeError\u001b[0m                                 Traceback (most recent call last)",
      "Cell \u001b[1;32mIn[81], line 8\u001b[0m\n\u001b[0;32m      5\u001b[0m \u001b[38;5;28mprint\u001b[39m(l1)\n\u001b[0;32m      7\u001b[0m l2 \u001b[38;5;241m=\u001b[39m (\u001b[38;5;241m1\u001b[39m,\u001b[38;5;241m2\u001b[39m,\u001b[38;5;241m3\u001b[39m,\u001b[38;5;241m4\u001b[39m)\n\u001b[1;32m----> 8\u001b[0m \u001b[43ml2\u001b[49m\u001b[43m[\u001b[49m\u001b[38;5;241;43m2\u001b[39;49m\u001b[43m]\u001b[49m \u001b[38;5;241m=\u001b[39m \u001b[38;5;241m10\u001b[39m  \u001b[38;5;66;03m#tuple' object does not support item assignment 즉 수정이 안됨\u001b[39;00m\n",
      "\u001b[1;31mTypeError\u001b[0m: 'tuple' object does not support item assignment"
     ]
    }
   ],
   "source": [
    "l1 = [1,23, ['a', 23],None]\n",
    "print(l1)\n",
    "print(l1[2])\n",
    "l1[2] = ['b', 45]\n",
    "print(l1)\n",
    "\n",
    "l2 = (1,2,3,4)\n",
    "l2[2] = 10  #tuple' object does not support item assignment 즉 수정이 안됨"
   ]
  },
  {
   "cell_type": "code",
   "execution_count": 97,
   "metadata": {},
   "outputs": [
    {
     "data": {
      "text/plain": [
       "1"
      ]
     },
     "execution_count": 97,
     "metadata": {},
     "output_type": "execute_result"
    }
   ],
   "source": [
    "dir(l1) #쓸수는 공통연산자들\n",
    "dir(l2)\n",
    "# index 해당원소가 있는 인덱스 번호를 알려준다\n",
    "l1.count(1)\n",
    "l2.count(4)\n"
   ]
  },
  {
   "cell_type": "code",
   "execution_count": 103,
   "metadata": {},
   "outputs": [
    {
     "data": {
      "text/plain": [
       "False"
      ]
     },
     "execution_count": 103,
     "metadata": {},
     "output_type": "execute_result"
    }
   ],
   "source": [
    "l1[-1] = 99\n",
    "l1.count(99)\n",
    "87 in l1"
   ]
  },
  {
   "cell_type": "code",
   "execution_count": 106,
   "metadata": {},
   "outputs": [
    {
     "name": "stdout",
     "output_type": "stream",
     "text": [
      "나\n"
     ]
    },
    {
     "ename": "TypeError",
     "evalue": "'str' object does not support item assignment",
     "output_type": "error",
     "traceback": [
      "\u001b[1;31m---------------------------------------------------------------------------\u001b[0m",
      "\u001b[1;31mTypeError\u001b[0m                                 Traceback (most recent call last)",
      "Cell \u001b[1;32mIn[106], line 3\u001b[0m\n\u001b[0;32m      1\u001b[0m a \u001b[38;5;241m=\u001b[39m \u001b[38;5;124m'\u001b[39m\u001b[38;5;124m사과나무\u001b[39m\u001b[38;5;124m'\u001b[39m\n\u001b[0;32m      2\u001b[0m \u001b[38;5;28mprint\u001b[39m(a[\u001b[38;5;241m2\u001b[39m])\n\u001b[1;32m----> 3\u001b[0m \u001b[43ma\u001b[49m\u001b[43m[\u001b[49m\u001b[38;5;241;43m2\u001b[39;49m\u001b[43m]\u001b[49m \u001b[38;5;241m=\u001b[39m \u001b[38;5;124m'\u001b[39m\u001b[38;5;124m구\u001b[39m\u001b[38;5;124m'\u001b[39m\u001b[38;5;66;03m#object does not support item assignment \u001b[39;00m\n\u001b[0;32m      4\u001b[0m \u001b[38;5;66;03m#str은 튜플의 성격을 갖는다 변경이 불가하다\u001b[39;00m\n",
      "\u001b[1;31mTypeError\u001b[0m: 'str' object does not support item assignment"
     ]
    }
   ],
   "source": [
    "a = '사과나무'\n",
    "print(a[2])\n",
    "a[2] = '구'#object does not support item assignment \n",
    "#str은 튜플의 성격을 갖는다 변경이 불가하다"
   ]
  },
  {
   "cell_type": "code",
   "execution_count": 110,
   "metadata": {},
   "outputs": [
    {
     "data": {
      "text/plain": [
       "(1, 2, 3, 4, 1, 2, 3, 4)"
      ]
     },
     "execution_count": 110,
     "metadata": {},
     "output_type": "execute_result"
    }
   ],
   "source": [
    "l2 + l2 #튜플은 불가변형이라고 했는데? \n",
    "# l2는 달라지지 않았다. 원본은 달라지지 않았기에 상관없음"
   ]
  },
  {
   "cell_type": "markdown",
   "metadata": {},
   "source": [
    "파이썬의 시퀀스 타입은 자동으로 인덱스를 1씩 증가시키면서 생성해준다\n",
    "슬라이스는 시퀀스 내에서 원하는 범위를 잘라서 가져오는 개념"
   ]
  },
  {
   "cell_type": "code",
   "execution_count": 126,
   "metadata": {},
   "outputs": [
    {
     "name": "stdout",
     "output_type": "stream",
     "text": [
      "[1, 23, ['b', 45], 99]\n",
      "[23, ['b', 45]]\n",
      "[23, 99]\n",
      "[23, 99]\n",
      "[23, 99]\n",
      "[99, ['b', 45], 23, 1]\n"
     ]
    }
   ],
   "source": [
    "print(l1)\n",
    "print(l1[1:3]) # : 를 사용해서 슬라이스 한다.\n",
    "print(l1[1:4:2])  #시작, 끝-1까지 , 건너뛸 단위\n",
    "#  l1[9] 인덱스 에러가 난다 존재하지 않는다 인덱스이기 때문이다.\n",
    "print(l1[1:9:2])  #끝점을 존재하지 않는 점 즉 초과하는 점을 지정해줘도 상관없음\n",
    "print(l1[1::2])\n",
    "print(l1[-1::-1])"
   ]
  },
  {
   "cell_type": "markdown",
   "metadata": {},
   "source": [
    "소프트 코딩 : 자료가 변해면 결과도 변하는 종류의 코딩\n",
    "하드 코딩 :자료가 변해도 같은 결과를 나타내도록 하는 고정하는 종류의 코딩\n",
    " - l1[4]--> 이건 변하지 않는 결과는 나타내지만\n",
    " - l1.append('새로운 값') --> 다른 결과를 나타낸다"
   ]
  },
  {
   "cell_type": "code",
   "execution_count": null,
   "metadata": {},
   "outputs": [],
   "source": []
  },
  {
   "cell_type": "code",
   "execution_count": 133,
   "metadata": {},
   "outputs": [
    {
     "name": "stdout",
     "output_type": "stream",
     "text": [
      "Yeonji's Home\n",
      "Yn'He\n",
      "emoH s'ijnoeY\n",
      "False\n",
      "False\n"
     ]
    },
    {
     "data": {
      "text/plain": [
       "0"
      ]
     },
     "execution_count": 133,
     "metadata": {},
     "output_type": "execute_result"
    }
   ],
   "source": [
    "content = 'Yeonji\\'s Home'\n",
    "print(content)\n",
    "print(content[0:99:3])\n",
    "print(content[-1::-1])\n",
    "print(content in 'yEONJI')\n",
    "print(content in 'Yeonji')\n",
    "content.index('Yeonji')\n"
   ]
  },
  {
   "cell_type": "markdown",
   "metadata": {},
   "source": [
    "가변연산자 \n",
    "- 튜플 안됨 String에서도 안됨\n",
    "- 리스트에서 능"
   ]
  },
  {
   "cell_type": "code",
   "execution_count": 143,
   "metadata": {},
   "outputs": [
    {
     "name": "stdout",
     "output_type": "stream",
     "text": [
      "[1, 23, ['b', 45], 99, 7, 7, 7, 7, 7]\n"
     ]
    }
   ],
   "source": [
    "l1.append(7)\n",
    "print(l1)\n"
   ]
  },
  {
   "cell_type": "code",
   "execution_count": 149,
   "metadata": {},
   "outputs": [
    {
     "name": "stdout",
     "output_type": "stream",
     "text": [
      "[1, 23, ['b', 45], 99, 7, 7, 7, 7, 7, 8, 8, 9, 10, 8, 9, 10, 8, 9, 10, 9, 10, 8]\n",
      "[1, 23, ['b', 45], 99, 7, 7, 7, 7, 7, 8, 8, 9, 10, 8, 9, 10, 8, 9, 10, 9, 10, 8, 9, 10]\n",
      "[1, 23, ['b', 45], 99, 7, 7, 7, 7, 7, 8, 8, 9, 10, 8, 9, 10, 8, 9, 10, 9, 10, 8, 9, 10, 9, 10]\n"
     ]
    },
    {
     "data": {
      "text/plain": [
       "45"
      ]
     },
     "execution_count": 149,
     "metadata": {},
     "output_type": "execute_result"
    }
   ],
   "source": [
    "l1.extend([8])\n",
    "print(l1)\n",
    "\n",
    "#l1.append(9,10)  -> 에러난다 하나만 추가하는 개념임\n",
    "l1.extend([9,10])\n",
    "print(l1)\n",
    "l1.extend((9,10))  #튜플도 가능하다\n",
    "print(l1)\n",
    "l1[2][1]\n"
   ]
  },
  {
   "cell_type": "code",
   "execution_count": 152,
   "metadata": {},
   "outputs": [
    {
     "name": "stdout",
     "output_type": "stream",
     "text": [
      "[1, 23, ['b', 45], 9, 9, 9, 99, 7, 7, 7, 7, 7, 8, 8, 9, 10, 8, 9, 10, 8, 9, 10, 9, 10, 8, 9, 10, 9, 10]\n",
      "['영번', 1, 23, ['b', 45], 9, 9, 9, 99, 7, 7, 7, 7, 7, 8, 8, 9, 10, 8, 9, 10, 8, 9, 10, 9, 10, 8, 9, 10, 9, 10]\n"
     ]
    }
   ],
   "source": [
    "l1.insert(3,9)\n",
    "print(l1)\n",
    "l1.insert(0,'영번') #특정위치에 밀어넣고 뒤에 있는 것들을 뒤로 한칸씩 밀어낸다.\n",
    "print(l1)"
   ]
  },
  {
   "cell_type": "code",
   "execution_count": 157,
   "metadata": {},
   "outputs": [
    {
     "name": "stdout",
     "output_type": "stream",
     "text": [
      "['영번', 1, 23, ['b', 45], 9, 99, 7, 7, 7, 7, 7, 8, 8, 9, 10, 8, 9, 10, 8, 9, 10, 9, 10]\n",
      "['영번', 1, 23, ['b', 45], 99, 7, 7, 7, 7, 7, 8, 8, 9, 10, 8, 9, 10, 8, 9, 10, 9, 10]\n"
     ]
    },
    {
     "data": {
      "text/plain": [
       "12"
      ]
     },
     "execution_count": 157,
     "metadata": {},
     "output_type": "execute_result"
    }
   ],
   "source": [
    "l1.pop()\n",
    "print(l1)\n",
    "l1.remove(9) #공통된 것이 있으면 가장 처음발견된 값만 삭제하고 멈춘다.\n",
    "print(l1)\n",
    "l1.index(9)"
   ]
  },
  {
   "cell_type": "markdown",
   "metadata": {},
   "source": [
    "매핑형 타입 : 키 값으로 불러오는 딕셔너리(dict)가 가장 대표적이다\n",
    "- 딕셔너리 {key : value, key : value, key : value}형식이다\n",
    "- 키와 value가 반드시 숫자가 아니어도 괜찮다.\n",
    "- 해시 자료구조라고 표현하기도 한다\n",
    "- 키를 검색할수는 있지만 value를 직접적으로 검색할수는 없다."
   ]
  },
  {
   "cell_type": "code",
   "execution_count": 160,
   "metadata": {},
   "outputs": [
    {
     "name": "stdout",
     "output_type": "stream",
     "text": [
      "{'문패': 1, '문패2': [1, 2, 3], '문패3': None}\n",
      "{'문패': 1, '문패2': [1, 2, 3], '문패3': None, '문패4': '찾으시는 정보가 없습니다'}\n"
     ]
    }
   ],
   "source": [
    "dict1 = {'문패' : 1, '문패2' : [1,2,3], '문패3' : None}\n",
    "print(dict1)\n",
    "\n",
    "#getter(값을 가져오는 함수 해당하는 키가 있으면 값을 보여주고 없으면 안나옴)\n",
    "#setter(값을 변경하는 함수)\n",
    "dict1.setdefault('문패4', '찾으시는 정보가 없습니다')\n",
    "#없는 키를 넣으면 키와 밸루 쌍을 해당 딕셔너리에 삽입\n",
    "print(dict1)"
   ]
  },
  {
   "cell_type": "code",
   "execution_count": 162,
   "metadata": {},
   "outputs": [
    {
     "data": {
      "text/plain": [
       "'the sum if 1+2 is 3 그리고 빼기도 해줘 and 싫어'"
      ]
     },
     "execution_count": 162,
     "metadata": {},
     "output_type": "execute_result"
    }
   ],
   "source": [
    "'the sum if 1+2 is {0} 그리고 {1} and {2}'.format(1+2, '빼기도 해줘', '싫어')\n",
    "# {0 : 1+2, 1:'빼기도해줘 , 3: '삻어'}\n"
   ]
  },
  {
   "cell_type": "code",
   "execution_count": 166,
   "metadata": {},
   "outputs": [
    {
     "data": {
      "text/plain": [
       "'the sum if 1+2 is 3 그리고 뺴기'"
      ]
     },
     "execution_count": 166,
     "metadata": {},
     "output_type": "execute_result"
    }
   ],
   "source": [
    "'the sum if 1+2 is {num} 그리고 {age}'.format(num = 1+2, age = '뺴기')"
   ]
  },
  {
   "cell_type": "code",
   "execution_count": 172,
   "metadata": {},
   "outputs": [
    {
     "data": {
      "text/plain": [
       "{'name': 0, 'age': 0}"
      ]
     },
     "execution_count": 172,
     "metadata": {},
     "output_type": "execute_result"
    }
   ],
   "source": [
    "person_info = ['name', 'age']\n",
    "dict4 = dict.fromkeys(person_info,0) #기본값은 None\n",
    "dict4"
   ]
  },
  {
   "cell_type": "code",
   "execution_count": 175,
   "metadata": {},
   "outputs": [
    {
     "data": {
      "text/plain": [
       "{'힙합': None,\n",
       " 'OST': '사월이 지나면 우리 헤어져요',\n",
       " '발라드': '주저하는 연인들을 위해',\n",
       " '팝송': 'bad guy',\n",
       " 'JPOP': '마리골드'}"
      ]
     },
     "execution_count": 175,
     "metadata": {},
     "output_type": "execute_result"
    }
   ],
   "source": [
    "my_playlist = {'힙합' : None, 'OST': '사월이 지나면 우리 헤어져요', '발라드': '주저하는 연인들을 위해', '팝송' : \"bad guy\", 'JPOP' : \"마리골드\"}\n",
    "my_playlist"
   ]
  },
  {
   "cell_type": "code",
   "execution_count": 176,
   "metadata": {},
   "outputs": [],
   "source": [
    "#Set 집합형 \n",
    "#키만으로 관리하는 HASH 자료구조입니다.\n",
    "set1 = {'key'}"
   ]
  },
  {
   "cell_type": "code",
   "execution_count": 178,
   "metadata": {},
   "outputs": [
    {
     "data": {
      "text/plain": [
       "{'key'}"
      ]
     },
     "execution_count": 178,
     "metadata": {},
     "output_type": "execute_result"
    }
   ],
   "source": [
    "set1"
   ]
  },
  {
   "cell_type": "code",
   "execution_count": 181,
   "metadata": {},
   "outputs": [
    {
     "name": "stdout",
     "output_type": "stream",
     "text": [
      "{1, 2, 3, 4, 5} {3, 4, 5, 7, 8, 10} {'c', 'b', 'a'}\n"
     ]
    }
   ],
   "source": [
    "set1 ={1, 2, 3, 4, 2, 5, 5}\n",
    "set2 = {3, 4, 5, 7, 8, 10}\n",
    "set3 = {'a', 'b', 'c', 'b', 'a', 'a'}\n",
    "print(set1, set2, set3)"
   ]
  },
  {
   "cell_type": "code",
   "execution_count": 183,
   "metadata": {},
   "outputs": [
    {
     "data": {
      "text/plain": [
       "['__and__',\n",
       " '__class__',\n",
       " '__class_getitem__',\n",
       " '__contains__',\n",
       " '__delattr__',\n",
       " '__dir__',\n",
       " '__doc__',\n",
       " '__eq__',\n",
       " '__format__',\n",
       " '__ge__',\n",
       " '__getattribute__',\n",
       " '__getstate__',\n",
       " '__gt__',\n",
       " '__hash__',\n",
       " '__iand__',\n",
       " '__init__',\n",
       " '__init_subclass__',\n",
       " '__ior__',\n",
       " '__isub__',\n",
       " '__iter__',\n",
       " '__ixor__',\n",
       " '__le__',\n",
       " '__len__',\n",
       " '__lt__',\n",
       " '__ne__',\n",
       " '__new__',\n",
       " '__or__',\n",
       " '__rand__',\n",
       " '__reduce__',\n",
       " '__reduce_ex__',\n",
       " '__repr__',\n",
       " '__ror__',\n",
       " '__rsub__',\n",
       " '__rxor__',\n",
       " '__setattr__',\n",
       " '__sizeof__',\n",
       " '__str__',\n",
       " '__sub__',\n",
       " '__subclasshook__',\n",
       " '__xor__',\n",
       " 'add',\n",
       " 'clear',\n",
       " 'copy',\n",
       " 'difference',\n",
       " 'difference_update',\n",
       " 'discard',\n",
       " 'intersection',\n",
       " 'intersection_update',\n",
       " 'isdisjoint',\n",
       " 'issubset',\n",
       " 'issuperset',\n",
       " 'pop',\n",
       " 'remove',\n",
       " 'symmetric_difference',\n",
       " 'symmetric_difference_update',\n",
       " 'union',\n",
       " 'update']"
      ]
     },
     "execution_count": 183,
     "metadata": {},
     "output_type": "execute_result"
    }
   ],
   "source": [
    "dir(set1) #쓸수 있는 함수"
   ]
  },
  {
   "cell_type": "code",
   "execution_count": 190,
   "metadata": {},
   "outputs": [
    {
     "data": {
      "text/plain": [
       "{1, 2, 3, 4, 5, 7, 8, 10}"
      ]
     },
     "execution_count": 190,
     "metadata": {},
     "output_type": "execute_result"
    }
   ],
   "source": [
    "set1 & set2\n",
    "set1 - set2\n",
    "set2.difference(set1)\n",
    "set1 | set2\n",
    "set1.union(set2)"
   ]
  },
  {
   "cell_type": "markdown",
   "metadata": {},
   "source": [
    "복사 \n",
    "- 앝은복사 --> 주소복사, 값복사라고 한다.\n",
    "- 같은 주소를 갖게 되고 같은 값을 갖게된다.\n",
    "\n",
    "- 깊은 복사 d= copy.deepcopy(a)\n",
    "- 원본이 변형이 될지라도 복사본은 달라지지 않는다. 다른 주소를 갖기 때문이다"
   ]
  },
  {
   "cell_type": "code",
   "execution_count": 194,
   "metadata": {},
   "outputs": [
    {
     "name": "stdout",
     "output_type": "stream",
     "text": [
      "2224173973184\n",
      "2224173973184\n"
     ]
    }
   ],
   "source": [
    "arr =[1,2,3]\n",
    "print(id(arr)) #주소값\n",
    "copy1 = arr\n",
    "print(id(copy1)) #주소, 값을 공유한다."
   ]
  },
  {
   "cell_type": "code",
   "execution_count": 197,
   "metadata": {},
   "outputs": [
    {
     "data": {
      "text/plain": [
       "([1, 2, 3], [1, 2, 3])"
      ]
     },
     "execution_count": 197,
     "metadata": {},
     "output_type": "execute_result"
    }
   ],
   "source": [
    "arr, copy1"
   ]
  },
  {
   "cell_type": "code",
   "execution_count": 199,
   "metadata": {},
   "outputs": [
    {
     "name": "stdout",
     "output_type": "stream",
     "text": [
      "2224168081728\n"
     ]
    }
   ],
   "source": [
    "copy1 = [10, 20, 30]\n",
    "print(id(copy1)) #값을 다르게 하면 복사본의 주소또한 달라지게 된다"
   ]
  },
  {
   "cell_type": "code",
   "execution_count": 201,
   "metadata": {},
   "outputs": [
    {
     "data": {
      "text/plain": [
       "(2224168245120, 2224168245120)"
      ]
     },
     "execution_count": 201,
     "metadata": {},
     "output_type": "execute_result"
    }
   ],
   "source": [
    "arr2D = ['Hello', 'Bye', 'Hi', ['Goodnight', 'Goodmorning', 'Goodafternoon']]\n",
    "arr2Dcopy = arr2D\n",
    "id(arr2D), id(arr2Dcopy) #주소가 같음\n"
   ]
  },
  {
   "cell_type": "code",
   "execution_count": 204,
   "metadata": {},
   "outputs": [
    {
     "data": {
      "text/plain": [
       "(2224168245120, 2224168409088)"
      ]
     },
     "execution_count": 204,
     "metadata": {},
     "output_type": "execute_result"
    }
   ],
   "source": [
    "import copy as co\n",
    "arr2Dcopy3 = co.deepcopy(arr2D) #deepcopy를 해서 이제 복사본의 주소값이다르다.\n",
    "id(arr2Dcopy), id(arr2Dcopy3)"
   ]
  }
 ],
 "metadata": {
  "kernelspec": {
   "display_name": "Python 3",
   "language": "python",
   "name": "python3"
  },
  "language_info": {
   "codemirror_mode": {
    "name": "ipython",
    "version": 3
   },
   "file_extension": ".py",
   "mimetype": "text/x-python",
   "name": "python",
   "nbconvert_exporter": "python",
   "pygments_lexer": "ipython3",
   "version": "3.12.3"
  }
 },
 "nbformat": 4,
 "nbformat_minor": 2
}
