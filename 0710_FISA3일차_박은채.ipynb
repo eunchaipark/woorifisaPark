{
 "cells": [
  {
   "cell_type": "markdown",
   "metadata": {},
   "source": [
    "제어문\n",
    "- 조건문 , 반복문 \n",
    "- if문 /match~ case문"
   ]
  },
  {
   "cell_type": "code",
   "execution_count": 2,
   "metadata": {},
   "outputs": [
    {
     "name": "stdout",
     "output_type": "stream",
     "text": [
      "참\n"
     ]
    }
   ],
   "source": [
    "if 0 : #0 , 거짓, False '거짓'\n",
    "    print('거짓')\n",
    "if 1 : #1 , 참, Tru,e '참'\n",
    "    print('참')"
   ]
  },
  {
   "cell_type": "code",
   "execution_count": 9,
   "metadata": {},
   "outputs": [
    {
     "name": "stdout",
     "output_type": "stream",
     "text": [
      "salad\n",
      "<class 'str'>\n",
      "salad를 드시는군요\n"
     ]
    }
   ],
   "source": [
    "# 사용자로 부터 입력받기\n",
    "menu = input('오늘 점심은?')\n",
    "print(menu)\n",
    "print(type(menu)) #숫자를 넣어도 str이기에 숫자로 쓸려면 형변환이 필요로 한다\n",
    "\n",
    "if menu:\n",
    "    print(menu + '를 드시는군요')\n",
    "else:\n",
    "    print(\"점심 안드시면 성격이 나빠져요\")"
   ]
  },
  {
   "cell_type": "code",
   "execution_count": 12,
   "metadata": {},
   "outputs": [
    {
     "data": {
      "text/plain": [
       "True"
      ]
     },
     "execution_count": 12,
     "metadata": {},
     "output_type": "execute_result"
    }
   ],
   "source": [
    "bool(0==False)"
   ]
  },
  {
   "cell_type": "markdown",
   "metadata": {},
   "source": [
    "들여쓰기를 중요시하고 이를 파이썬은 강제하고 있다"
   ]
  },
  {
   "cell_type": "code",
   "execution_count": 15,
   "metadata": {},
   "outputs": [
    {
     "name": "stdout",
     "output_type": "stream",
     "text": [
      "참\n",
      "참\n"
     ]
    }
   ],
   "source": [
    "# 1이라는 값이 있으면 참, 없으면 거짓을 출력하도록\n",
    "arr = [1,2,3,4,5]\n",
    "if 1 in arr :\n",
    "    print('참')\n",
    "else :\n",
    "    print('거짓')\n",
    "# 참출력\n",
    "\n",
    "if arr.index(1) < len(arr) :\n",
    "    print('참')\n",
    "else : print('거짓')"
   ]
  },
  {
   "cell_type": "code",
   "execution_count": 59,
   "metadata": {},
   "outputs": [
    {
     "name": "stdout",
     "output_type": "stream",
     "text": [
      "그렇군요\n"
     ]
    }
   ],
   "source": [
    "aw = input('어꺠를 돌리셧습니가? Y or N')\n",
    "if aw == 'Y' or aw == 'y':\n",
    "    print('좋군요')\n",
    "else :\n",
    "    print(\"그렇군요\")"
   ]
  },
  {
   "cell_type": "code",
   "execution_count": 17,
   "metadata": {},
   "outputs": [
    {
     "name": "stdout",
     "output_type": "stream",
     "text": [
      "['python']\n"
     ]
    }
   ],
   "source": [
    "examples = [\n",
    "    ['python'],\n",
    "    ['1'],\n",
    "    ['아침', '점심', '저녁'],\n",
    "    ['score', 100, 22, 90]\n",
    "]\n",
    "\n",
    "x = ['python']\n",
    "# for x in examples:\n",
    "match x:\n",
    "    case ['python']:\n",
    "        print(x)\n",
    "        # break\n",
    "    case ['아침', '점심']:\n",
    "        print(x)\n",
    "            # break\n",
    "    case ['1'] | ['2']:\n",
    "        print(x)\n",
    "            # break\n",
    "    case ['아침', z]:\n",
    "        print(z)\n",
    "            # break\n",
    "    case ['score', *z]:\n",
    "        print(z)"
   ]
  },
  {
   "cell_type": "markdown",
   "metadata": {},
   "source": [
    "match case문은 if문으로 대체 가능하다"
   ]
  },
  {
   "cell_type": "code",
   "execution_count": 30,
   "metadata": {},
   "outputs": [
    {
     "name": "stdout",
     "output_type": "stream",
     "text": [
      "아무거나 드세요\n"
     ]
    }
   ],
   "source": [
    "lm = input('점심메뉴를 말하세요')\n",
    "match x:\n",
    "    case '치킨' | '피자'|'짜장면'|'짬뽕':\n",
    "        print(lm)\n",
    "            # break\n",
    "    case _:\n",
    "        print('아무거나 드세요')"
   ]
  },
  {
   "cell_type": "code",
   "execution_count": 31,
   "metadata": {},
   "outputs": [
    {
     "name": "stdout",
     "output_type": "stream",
     "text": [
      "치킨를(을) 드세요\n"
     ]
    }
   ],
   "source": [
    "lm = input('점심메뉴를 말하세요')\n",
    "if lm == '치킨' or '피자' or'짜장면' or '짬뽕':\n",
    "    print(lm+'를(을) 드세요')\n",
    "else : print(\"아무거나 드세요\")\n",
    "\n",
    "#print('좋군요' if : `~~` else: ~~~) 이것도 가능"
   ]
  },
  {
   "cell_type": "code",
   "execution_count": 39,
   "metadata": {},
   "outputs": [
    {
     "name": "stdout",
     "output_type": "stream",
     "text": [
      "치을(를) 드세요\n"
     ]
    }
   ],
   "source": [
    "lm = input('점심메뉴를 말하세요')\n",
    "print(lm+'을(를) 드세요' if  lm == '치킨' or '피자' or'짜장면' or '짬뽕' else  print(\"아무거나 드세요\") )"
   ]
  },
  {
   "cell_type": "code",
   "execution_count": 67,
   "metadata": {},
   "outputs": [
    {
     "name": "stdout",
     "output_type": "stream",
     "text": [
      "거짓\n"
     ]
    }
   ],
   "source": [
    "arr =  [1,2,3]\n",
    "if 1 in arr or 2 in arr or 3 in arr:\n",
    "    print('참')\n",
    "else : print('거짓')"
   ]
  },
  {
   "cell_type": "code",
   "execution_count": 51,
   "metadata": {},
   "outputs": [
    {
     "name": "stdout",
     "output_type": "stream",
     "text": [
      "3\n",
      "1\n",
      "b의 승리\n"
     ]
    }
   ],
   "source": [
    "import random \n",
    "b = (random.randint(1,6))\n",
    "print(b)\n",
    "a = (random.randint(1,6))\n",
    "print(a)\n",
    "if a == b:\n",
    "    print('비김')\n",
    "elif a > b:\n",
    "    print('a의 승리')\n",
    "else:\n",
    "    print('b의 승리')"
   ]
  },
  {
   "cell_type": "code",
   "execution_count": 65,
   "metadata": {},
   "outputs": [
    {
     "name": "stdout",
     "output_type": "stream",
     "text": [
      "숫자를 입력하세요\n"
     ]
    }
   ],
   "source": [
    "a=input('a의 숫자를 입력하세요')\n",
    "b=input('b의 숫자를 입력하세요')\n",
    "if a.isnumeric() and b.isnumeric() :  #a,b모두 str형태이지만 그 안에 숫자만 존재하면 True가 나오는게 isnumeric\n",
    "    int(a)\n",
    "    int(b)\n",
    "\n",
    "    if a == b:\n",
    "        print('비김')\n",
    "    elif a > b:\n",
    "        print('a의 승리')\n",
    "    else:\n",
    "        print('b의 승리')\n",
    "else :print('a와 b 숫자를 입력하세요')\n"
   ]
  },
  {
   "cell_type": "code",
   "execution_count": 61,
   "metadata": {},
   "outputs": [
    {
     "name": "stdout",
     "output_type": "stream",
     "text": [
      "isdigit()\n",
      "True\n",
      "False\n",
      "False\n",
      "False\n",
      "True\n",
      "False\n",
      "False\n",
      "isdecimal() - 특수문자는 숫자로 취급하지 않음\n",
      "True\n",
      "False\n",
      "False\n",
      "False\n",
      "False\n",
      "False\n",
      "False\n",
      "isnumeric() -  문자열의 모든 문자가 숫자(분수, 아래 첨자, 위 첨자 등의 다른 숫자도 포함)\n",
      "True\n",
      "False\n",
      "False\n",
      "False\n",
      "True\n",
      "False\n",
      "True\n",
      "isalpha() - 알파벳으로만 이루어진 문자열 판별\n",
      "False\n",
      "False\n",
      "True\n",
      "False\n",
      "False\n",
      "False\n",
      "False\n"
     ]
    }
   ],
   "source": [
    "### 문자열이 '숫자'로만 이루어져있는지 확인\n",
    "#  1) str.isdigit(\"판단하고자 하는 문자열\")\n",
    "#  2) \"판단하고자 하는 문자열\".isdigit()\n",
    "\n",
    "a = '1234' # 타입이 str이지만 온전히 숫자만 가지고 있다면 True를 반환\n",
    "b = '1/2'\n",
    "c = '가나다'\n",
    "d = '가나다123'\n",
    "e = '3²'\n",
    "f = '-1'\n",
    "g = '½'\n",
    "\n",
    "print('isdigit()') # 문자열의 모든 문자가 숫자(0-9)이면 True를 출력\n",
    "print(a.isdigit()) # True\n",
    "print(b.isdigit()) # False\n",
    "print(c.isdigit()) # False\n",
    "print(d.isdigit()) # False\n",
    "print(e.isdigit()) # True\n",
    "print(f.isdigit()) # False '-1' 은 '-'가 음수이기 때문에\n",
    "print(g.isdigit()) # False\n",
    "\n",
    "print('isdecimal() - 특수문자는 숫자로 취급하지 않음')\n",
    "print(a.isdecimal()) # True\n",
    "print(b.isdecimal()) # False\n",
    "print(c.isdecimal()) # False\n",
    "print(d.isdecimal()) # False\n",
    "print(e.isdecimal()) # False\n",
    "print(f.isdecimal()) # False\n",
    "print(g.isdecimal()) # False\n",
    "\n",
    "print('isnumeric() -  문자열의 모든 문자가 숫자(분수, 아래 첨자, 위 첨자 등의 다른 숫자도 포함)')\n",
    "print(a.isnumeric()) # True\n",
    "print(b.isnumeric()) # False\n",
    "print(c.isnumeric()) # False\n",
    "print(d.isnumeric()) # False\n",
    "print(e.isnumeric()) # True\n",
    "print(f.isnumeric()) # False\n",
    "print(g.isnumeric()) # True\n",
    "\n",
    "print('isalpha() - 알파벳으로만 이루어진 문자열 판별')\n",
    "print(a.isalpha()) # False\n",
    "print(b.isalpha()) # False\n",
    "print(c.isalpha()) # True\n",
    "print(d.isalpha()) # False\n",
    "print(e.isalpha()) # False\n",
    "print(f.isalpha()) # False\n",
    "print(g.isalpha()) # False"
   ]
  },
  {
   "cell_type": "markdown",
   "metadata": {},
   "source": [
    "- print('isdigit()') # 문자열의 모든 문자가 숫자(0-9)이면 True를 출력\n",
    "- print('isdecimal() - 특수문자는 숫자로 취급하지 않음')\n",
    "- print('isnumeric() -  문자열의 모든 문자가 숫자(분수, 아래 첨자, 위 첨자 등의 다른 숫자도 포함)')\n",
    "- print('isalpha() - 알파벳으로만 이루어진 문자열 판별')"
   ]
  },
  {
   "cell_type": "markdown",
   "metadata": {},
   "source": [
    "1 or 2 or 3\n",
    "- 1이 참이기에 2와3을 고려하지 않고 1이 나온다\n",
    "\n",
    "1 | 2 | 3\n",
    "- 비트단위로 논리연산을 하기때문에 3이 나온다\n",
    "- 파이썬에서는 비트 연산이 허용은 되나 다른 언어와 다른 방식으로 동작하기에 권장하지 않는다."
   ]
  },
  {
   "cell_type": "code",
   "execution_count": 73,
   "metadata": {},
   "outputs": [
    {
     "name": "stdout",
     "output_type": "stream",
     "text": [
      "로그인 되셧습니다\n"
     ]
    }
   ],
   "source": [
    "user_id = 'abcd'\n",
    "user_pw = '1234'\n",
    "inp_id = input('아이디를 입력하시오 :')\n",
    "inp_pw = input('비밀번호를 입력하시오 :')\n",
    "if user_id == inp_id and user_pw == inp_pw :\n",
    "    print('로그인 되셧습니다')\n",
    "else : print('로그인을 다시 시도 하세요')\n"
   ]
  },
  {
   "cell_type": "code",
   "execution_count": 76,
   "metadata": {},
   "outputs": [
    {
     "name": "stdout",
     "output_type": "stream",
     "text": [
      "비밀번호가 들렸습니다.\n"
     ]
    }
   ],
   "source": [
    "user_id = 'abcd'\n",
    "user_pw = '1234'\n",
    "inp_id = input('아이디를 입력하시오 :')\n",
    "inp_pw = input('비밀번호를 입력하시오 :')\n",
    "if user_id == inp_id and user_pw == inp_pw :\n",
    "    print('로그인 되셧습니다')\n",
    "elif user_id == inp_id and user_pw != inp_pw :\n",
    "    print('비밀번호가 들렸습니다.')\n",
    "elif user_id != inp_id and user_pw == inp_pw :\n",
    "    print('아이디가 들렸습니다.')\n",
    "else :\n",
    "    print('로그인 불가')\n"
   ]
  },
  {
   "cell_type": "code",
   "execution_count": 78,
   "metadata": {},
   "outputs": [
    {
     "name": "stdout",
     "output_type": "stream",
     "text": [
      "USB를 꽂아서 직접 업데이트하실래요 돈을내고 온라인 업데이트 하실래요?\n"
     ]
    }
   ],
   "source": [
    "buytear, buymonth, buyday = 20,5,1\n",
    "now_y = int(input('현재 연도를 입력하시오'))\n",
    "now_m = int(input('현재 달을 입력하시오'))\n",
    "now_d = int(input('현재 날짜를 입력하시오'))\n",
    "if now_y < 23 :\n",
    "    print('무료업데이트 기간입니다.')\n",
    "if now_y >= 24 :\n",
    "    if now_m >= buymonth and now_d >= buyday :\n",
    "        print('USB를 꽂아서 직접 업데이트하실래요 돈을내고 온라인 업데이트 하실래요?')\n",
    "    elif now_m >= ((buymonth+9)%12) and now_d >= buyday :\n",
    "        print('무료 업데이트 기간이 끝나갑니다. 빨리 업데이트를 진행하세요')\n",
    "    else :\n",
    "        print('아직 기간이 많이 남으셧습니다')"
   ]
  },
  {
   "cell_type": "markdown",
   "metadata": {},
   "source": [
    "반복문 \n",
    "- while 문\n",
    "- for 문"
   ]
  },
  {
   "cell_type": "code",
   "execution_count": 80,
   "metadata": {},
   "outputs": [
    {
     "name": "stdout",
     "output_type": "stream",
     "text": [
      "2\n",
      "4\n",
      "6\n",
      "8\n",
      "10\n"
     ]
    }
   ],
   "source": [
    "a=1\n",
    "while a <=10 :\n",
    "  if a % 2 == 0:\n",
    "    print(a)\n",
    "  a += 1"
   ]
  },
  {
   "cell_type": "code",
   "execution_count": 23,
   "metadata": {},
   "outputs": [
    {
     "name": "stdout",
     "output_type": "stream",
     "text": [
      "3\n",
      "6\n",
      "9\n",
      "12\n",
      "15\n",
      "18\n",
      "0\n"
     ]
    }
   ],
   "source": [
    "a=1\n",
    "while a <= 20:\n",
    "    if a %3 == 0:\n",
    "        print(a)\n",
    "    a += 1\n",
    "\n",
    "for i in range(1,21):\n",
    "    sum = 0\n",
    "    if i %3 == 0:\n",
    "        sum += i\n",
    "print(sum)\n",
    "b=0\n",
    "while True :\n",
    "    b += 1\n",
    "    if b % 3 ==0:\n",
    "        print(b)\n",
    "    else : break\n",
    "\n",
    "\n"
   ]
  },
  {
   "cell_type": "code",
   "execution_count": 34,
   "metadata": {},
   "outputs": [
    {
     "name": "stdout",
     "output_type": "stream",
     "text": [
      "63\n"
     ]
    }
   ],
   "source": [
    "sum = 0\n",
    "for i in range(1,21):\n",
    "    if i %3 == 0:\n",
    "        sum += i\n",
    " #   print(sum)\n",
    "print(sum)\n"
   ]
  },
  {
   "cell_type": "markdown",
   "metadata": {},
   "source": [
    " := ( 바다코끼리 연산자) 할당하는 것과 동시에 사용하는 연산자\n",
    "- while(i := i+1): ~~~ 이렇게 사용"
   ]
  },
  {
   "cell_type": "code",
   "execution_count": 114,
   "metadata": {},
   "outputs": [
    {
     "name": "stdout",
     "output_type": "stream",
     "text": [
      "a\n",
      "b\n",
      "c\n",
      "d\n",
      "e\n",
      "f\n",
      "g\n",
      "e\n",
      "f\n",
      "g\n",
      "h\n",
      "10\n",
      "20\n",
      "30\n",
      "1 번 끝\n",
      "--------------------\n",
      "2 번 끝\n",
      "--------------------\n",
      "3 번 끝\n",
      "--------------------\n"
     ]
    }
   ],
   "source": [
    "for i in range(0,len(list1)):\n",
    "    print(list1[i])\n",
    "for i in range(10,31,10):\n",
    "    print(i)\n",
    "\n",
    "for i in range(1,4):\n",
    "    print(i,'번 끝')\n",
    "    print('--------------------')\n"
   ]
  },
  {
   "cell_type": "code",
   "execution_count": 119,
   "metadata": {},
   "outputs": [
    {
     "name": "stdout",
     "output_type": "stream",
     "text": [
      "a  \n",
      "b  \n",
      "c  \n",
      "d  \n",
      "e  \n",
      "f  \n",
      "g  \n",
      "e  \n",
      "f  \n",
      "g  \n",
      "h  \n",
      "a\n",
      "b\n",
      "c\n",
      "d\n",
      "e\n",
      "f\n",
      "g\n",
      "e\n",
      "f\n",
      "g\n",
      "h\n"
     ]
    }
   ],
   "source": [
    "list1 = ['a','b','c','d','e','f','g','e','f','g','h']\n",
    "for i in range(0,len(list1)):\n",
    "    print(list1[i], ' ')\n",
    "\n",
    "a=0  #같은거 while 문으로 풀기\n",
    "while True:\n",
    "    if a <= (len(list1) - 1):\n",
    "        print(list1[a])\n",
    "        a += 1\n",
    "    else : break\n",
    "    "
   ]
  },
  {
   "cell_type": "code",
   "execution_count": 3,
   "metadata": {},
   "outputs": [
    {
     "name": "stdout",
     "output_type": "stream",
     "text": [
      "무언가 입력중입니다\n",
      "종료되었습니다\n"
     ]
    }
   ],
   "source": [
    "while True :\n",
    "  print('무언가 입력중입니다')\n",
    "  a = input('종료하려면 x를 입력하시오')\n",
    "  if a == 'x':\n",
    "    break\n",
    "\n",
    "print('종료되었습니다')"
   ]
  },
  {
   "cell_type": "code",
   "execution_count": 9,
   "metadata": {},
   "outputs": [
    {
     "name": "stdout",
     "output_type": "stream",
     "text": [
      "3\n",
      "6\n",
      "9\n",
      "12\n",
      "15\n",
      "18\n"
     ]
    }
   ],
   "source": [
    "for i in range(1,20):\n",
    "    if i % 3 == 0 :\n",
    "        print(i)\n",
    "    else :\n",
    "        pass  #빈칸을 용납하지 않을때 채워놓는 pass\n"
   ]
  },
  {
   "cell_type": "code",
   "execution_count": 14,
   "metadata": {},
   "outputs": [
    {
     "name": "stdout",
     "output_type": "stream",
     "text": [
      "1\n",
      "3\n",
      "5\n",
      "7\n",
      "9\n",
      "11\n"
     ]
    }
   ],
   "source": [
    "i = 0\n",
    "while i < 11 :\n",
    "    i += 1\n",
    "    if i % 2 ==0 :\n",
    "        continue   #while문 처음으로 돌아간다\n",
    "    print(i)"
   ]
  },
  {
   "cell_type": "markdown",
   "metadata": {},
   "source": [
    "for\n",
    "- 이터레이블 \n",
    "- 반복 가능한 모든 종류의 객체를 의미\n",
    "- 시퀀스 타입( 리스트, 튜플 문자열)\n",
    "- 매핑형(딕셔너리 셋 등등)\n",
    "\n",
    "for 변수 in 이터레이블"
   ]
  },
  {
   "cell_type": "code",
   "execution_count": 36,
   "metadata": {},
   "outputs": [
    {
     "name": "stdout",
     "output_type": "stream",
     "text": [
      "10\n",
      "20\n",
      "30\n"
     ]
    }
   ],
   "source": [
    "for i in range(10, 31, 10):\n",
    "    print(i)"
   ]
  },
  {
   "cell_type": "code",
   "execution_count": 38,
   "metadata": {},
   "outputs": [
    {
     "name": "stdout",
     "output_type": "stream",
     "text": [
      "1 번 끝\n",
      "---------------\n",
      "2 번 끝\n",
      "---------------\n",
      "3 번 끝\n",
      "---------------\n"
     ]
    }
   ],
   "source": [
    "for i in range(1,4,1):\n",
    "    print(i,'번 끝')\n",
    "    print('---------------')"
   ]
  },
  {
   "cell_type": "code",
   "execution_count": 41,
   "metadata": {},
   "outputs": [
    {
     "name": "stdout",
     "output_type": "stream",
     "text": [
      "a\n",
      "b\n",
      "c\n",
      "d\n",
      "e\n",
      "f\n",
      "g\n",
      "e\n",
      "f\n",
      "g\n",
      "h\n"
     ]
    }
   ],
   "source": [
    "list1 = ['a','b','c','d','e','f','g','e','f','g','h']\n",
    "for i in list1:\n",
    "    print(i)"
   ]
  },
  {
   "cell_type": "code",
   "execution_count": 43,
   "metadata": {},
   "outputs": [
    {
     "name": "stdout",
     "output_type": "stream",
     "text": [
      "9\n",
      "8\n",
      "7\n",
      "6\n",
      "5\n",
      "4\n",
      "3\n",
      "2\n",
      "1\n"
     ]
    }
   ],
   "source": [
    "a=int(input('입력'))\n",
    "for i in range(a,0,-1):\n",
    "    print(i)"
   ]
  },
  {
   "cell_type": "code",
   "execution_count": 45,
   "metadata": {},
   "outputs": [
    {
     "name": "stdout",
     "output_type": "stream",
     "text": [
      "딸기\n",
      "바나나\n",
      "사과\n",
      "포도\n"
     ]
    }
   ],
   "source": [
    "fruits = {'딸기': 'Strawberry', '바나나': 'Banana', '사과': 'Apple', '포도': 'Grape'}\n",
    "for fruit in fruits:\n",
    "    print(fruit) #키 중심"
   ]
  },
  {
   "cell_type": "code",
   "execution_count": 63,
   "metadata": {},
   "outputs": [
    {
     "name": "stdout",
     "output_type": "stream",
     "text": [
      "Strawberry\n",
      "Banana\n",
      "Apple\n",
      "Grape\n"
     ]
    }
   ],
   "source": [
    "for fruit in fruits.values():\n",
    "    print(fruit) #value뽑기"
   ]
  },
  {
   "cell_type": "code",
   "execution_count": 65,
   "metadata": {},
   "outputs": [
    {
     "name": "stdout",
     "output_type": "stream",
     "text": [
      "딸기 Strawberry\n",
      "바나나 Banana\n",
      "사과 Apple\n",
      "포도 Grape\n"
     ]
    }
   ],
   "source": [
    "for fruit in fruits:\n",
    "    print(fruit + ' ' + fruits[fruit]) #키 중심"
   ]
  },
  {
   "cell_type": "code",
   "execution_count": 70,
   "metadata": {},
   "outputs": [
    {
     "name": "stdout",
     "output_type": "stream",
     "text": [
      "딸기 Strawberry\n",
      "바나나 Banana\n",
      "사과 Apple\n",
      "포도 Grape\n"
     ]
    }
   ],
   "source": [
    "fruits.items()\n",
    "for key, value in fruits.items():\n",
    "    print(key, value)"
   ]
  },
  {
   "cell_type": "code",
   "execution_count": 71,
   "metadata": {},
   "outputs": [
    {
     "name": "stdout",
     "output_type": "stream",
     "text": [
      "딸기 Strawberry\n",
      "바나나 Banana\n",
      "사과 Apple\n",
      "포도 Grape\n"
     ]
    }
   ],
   "source": [
    "for key, value in fruits.items():\n",
    "    print(key, value)"
   ]
  },
  {
   "cell_type": "code",
   "execution_count": 78,
   "metadata": {},
   "outputs": [
    {
     "name": "stdout",
     "output_type": "stream",
     "text": [
      "연필 500\n",
      "연필 300\n"
     ]
    }
   ],
   "source": [
    "#실습2. 1000원 미만의 상품은 팔지 않을 거에요\n",
    "#         1000원보다 비싼 상품의 이름표만 출력해주세요(조건문)\n",
    "sale1 = { '연필' : [500, 300], '공책': [1200, 2100], '신발':[58000, 2121000]}\n",
    "for k,v in sale1.items():\n",
    "    for i in sale1[k]:\n",
    "        if i < 1000:\n",
    "            print(k, i)\n"
   ]
  },
  {
   "cell_type": "code",
   "execution_count": 81,
   "metadata": {},
   "outputs": [
    {
     "name": "stdout",
     "output_type": "stream",
     "text": [
      "연필 400\n",
      "연필 240\n",
      "공책 960\n",
      "공책 1680\n",
      "신발 46400\n",
      "신발 1696800\n"
     ]
    }
   ],
   "source": [
    "# 실습3. 손님들이 배가 불렀다며 연지상회를 더이상 찾지 않아서 눈물의 이별세일을 합니다.\n",
    "# 장부(sale1)에는 그대로 있되 출력결과만 할인된 상태의 값으로 20프로씩 물건값을 할인해서 판매하는 가격표를 출력해주세요.\n",
    "for k,v in sale1.items():\n",
    "    for i in sale1[k]:\n",
    "        print(k, int(i*0.8))"
   ]
  },
  {
   "cell_type": "code",
   "execution_count": 102,
   "metadata": {},
   "outputs": [
    {
     "name": "stdout",
     "output_type": "stream",
     "text": [
      "{'연필': [400, 240], '공책': [960, 1680], '신발': [46400, 1696800]}\n"
     ]
    }
   ],
   "source": [
    "import copy\n",
    "sale1 = { '연필' : [500, 300], '공책': [1200, 2100], '신발':[58000, 2121000]}\n",
    "sale2 = copy.deepcopy(sale1)\n",
    "for k in sale1.keys():\n",
    "    for i in range(len(sale1[k])):   \n",
    "        sale1[k][i] = int(sale1[k][i] *0.8)\n",
    "print(sale1)\n",
    "        "
   ]
  },
  {
   "cell_type": "code",
   "execution_count": 91,
   "metadata": {},
   "outputs": [
    {
     "name": "stdout",
     "output_type": "stream",
     "text": [
      "7\n",
      "14\n",
      "21\n",
      "28\n",
      "35\n",
      "42\n",
      "49\n",
      "56\n",
      "63\n",
      "7\n",
      "14\n",
      "21\n",
      "28\n",
      "35\n",
      "42\n",
      "49\n",
      "56\n",
      "63\n"
     ]
    }
   ],
   "source": [
    "num = int(input('1~9사이를 입력해주세요'))\n",
    "for i in range(1,10,1):\n",
    "    print(num * i)\n",
    "\n",
    "a=1\n",
    "while a < 10:\n",
    "    print(num *a)  \n",
    "    a = a+1"
   ]
  },
  {
   "cell_type": "code",
   "execution_count": 96,
   "metadata": {},
   "outputs": [
    {
     "name": "stdout",
     "output_type": "stream",
     "text": [
      "1 X 1 = 1\n",
      "1 X 2 = 2\n",
      "1 X 3 = 3\n",
      "1 X 4 = 4\n",
      "1 X 5 = 5\n",
      "1 X 6 = 6\n",
      "1 X 7 = 7\n",
      "1 X 8 = 8\n",
      "1 X 9 = 9\n",
      "2 X 1 = 2\n",
      "2 X 2 = 4\n",
      "2 X 3 = 6\n",
      "2 X 4 = 8\n",
      "2 X 5 = 10\n",
      "2 X 6 = 12\n",
      "2 X 7 = 14\n",
      "2 X 8 = 16\n",
      "2 X 9 = 18\n",
      "3 X 1 = 3\n",
      "3 X 2 = 6\n",
      "3 X 3 = 9\n",
      "3 X 4 = 12\n",
      "3 X 5 = 15\n",
      "3 X 6 = 18\n",
      "3 X 7 = 21\n",
      "3 X 8 = 24\n",
      "3 X 9 = 27\n",
      "4 X 1 = 4\n",
      "4 X 2 = 8\n",
      "4 X 3 = 12\n",
      "4 X 4 = 16\n",
      "4 X 5 = 20\n",
      "4 X 6 = 24\n",
      "4 X 7 = 28\n",
      "4 X 8 = 32\n",
      "4 X 9 = 36\n",
      "5 X 1 = 5\n",
      "5 X 2 = 10\n",
      "5 X 3 = 15\n",
      "5 X 4 = 20\n",
      "5 X 5 = 25\n",
      "5 X 6 = 30\n",
      "5 X 7 = 35\n",
      "5 X 8 = 40\n",
      "5 X 9 = 45\n",
      "6 X 1 = 6\n",
      "6 X 2 = 12\n",
      "6 X 3 = 18\n",
      "6 X 4 = 24\n",
      "6 X 5 = 30\n",
      "6 X 6 = 36\n",
      "6 X 7 = 42\n",
      "6 X 8 = 48\n",
      "6 X 9 = 54\n",
      "7 X 1 = 7\n",
      "7 X 2 = 14\n",
      "7 X 3 = 21\n",
      "7 X 4 = 28\n",
      "7 X 5 = 35\n",
      "7 X 6 = 42\n",
      "7 X 7 = 49\n",
      "7 X 8 = 56\n",
      "7 X 9 = 63\n",
      "8 X 1 = 8\n",
      "8 X 2 = 16\n",
      "8 X 3 = 24\n",
      "8 X 4 = 32\n",
      "8 X 5 = 40\n",
      "8 X 6 = 48\n",
      "8 X 7 = 56\n",
      "8 X 8 = 64\n",
      "8 X 9 = 72\n",
      "9 X 1 = 9\n",
      "9 X 2 = 18\n",
      "9 X 3 = 27\n",
      "9 X 4 = 36\n",
      "9 X 5 = 45\n",
      "9 X 6 = 54\n",
      "9 X 7 = 63\n",
      "9 X 8 = 72\n",
      "9 X 9 = 81\n"
     ]
    }
   ],
   "source": [
    "\n",
    "for i in range(1, 10, 1):\n",
    "    for k in range(1, 10, 1):\n",
    "        print(i, 'X', k, '=', i*k)"
   ]
  },
  {
   "cell_type": "code",
   "execution_count": 97,
   "metadata": {},
   "outputs": [
    {
     "name": "stdout",
     "output_type": "stream",
     "text": [
      "1 X 1 = 1\n",
      "2 X 1 = 2\n",
      "3 X 1 = 3\n",
      "4 X 1 = 4\n",
      "5 X 1 = 5\n",
      "6 X 1 = 6\n",
      "7 X 1 = 7\n",
      "8 X 1 = 8\n",
      "9 X 1 = 9\n",
      "1 X 2 = 2\n",
      "2 X 2 = 4\n",
      "3 X 2 = 6\n",
      "4 X 2 = 8\n",
      "5 X 2 = 10\n",
      "6 X 2 = 12\n",
      "7 X 2 = 14\n",
      "8 X 2 = 16\n",
      "9 X 2 = 18\n",
      "1 X 3 = 3\n",
      "2 X 3 = 6\n",
      "3 X 3 = 9\n",
      "4 X 3 = 12\n",
      "5 X 3 = 15\n",
      "6 X 3 = 18\n",
      "7 X 3 = 21\n",
      "8 X 3 = 24\n",
      "9 X 3 = 27\n",
      "1 X 4 = 4\n",
      "2 X 4 = 8\n",
      "3 X 4 = 12\n",
      "4 X 4 = 16\n",
      "5 X 4 = 20\n",
      "6 X 4 = 24\n",
      "7 X 4 = 28\n",
      "8 X 4 = 32\n",
      "9 X 4 = 36\n",
      "1 X 5 = 5\n",
      "2 X 5 = 10\n",
      "3 X 5 = 15\n",
      "4 X 5 = 20\n",
      "5 X 5 = 25\n",
      "6 X 5 = 30\n",
      "7 X 5 = 35\n",
      "8 X 5 = 40\n",
      "9 X 5 = 45\n",
      "1 X 6 = 6\n",
      "2 X 6 = 12\n",
      "3 X 6 = 18\n",
      "4 X 6 = 24\n",
      "5 X 6 = 30\n",
      "6 X 6 = 36\n",
      "7 X 6 = 42\n",
      "8 X 6 = 48\n",
      "9 X 6 = 54\n",
      "1 X 7 = 7\n",
      "2 X 7 = 14\n",
      "3 X 7 = 21\n",
      "4 X 7 = 28\n",
      "5 X 7 = 35\n",
      "6 X 7 = 42\n",
      "7 X 7 = 49\n",
      "8 X 7 = 56\n",
      "9 X 7 = 63\n",
      "1 X 8 = 8\n",
      "2 X 8 = 16\n",
      "3 X 8 = 24\n",
      "4 X 8 = 32\n",
      "5 X 8 = 40\n",
      "6 X 8 = 48\n",
      "7 X 8 = 56\n",
      "8 X 8 = 64\n",
      "9 X 8 = 72\n",
      "1 X 9 = 9\n",
      "2 X 9 = 18\n",
      "3 X 9 = 27\n",
      "4 X 9 = 36\n",
      "5 X 9 = 45\n",
      "6 X 9 = 54\n",
      "7 X 9 = 63\n",
      "8 X 9 = 72\n",
      "9 X 9 = 81\n"
     ]
    }
   ],
   "source": [
    "for i in range(1, 10, 1):\n",
    "    for k in range(1, 10, 1):\n",
    "        print(k, 'X', i, '=', i*k)"
   ]
  }
 ],
 "metadata": {
  "kernelspec": {
   "display_name": "Python 3",
   "language": "python",
   "name": "python3"
  },
  "language_info": {
   "codemirror_mode": {
    "name": "ipython",
    "version": 3
   },
   "file_extension": ".py",
   "mimetype": "text/x-python",
   "name": "python",
   "nbconvert_exporter": "python",
   "pygments_lexer": "ipython3",
   "version": "3.12.3"
  }
 },
 "nbformat": 4,
 "nbformat_minor": 2
}
