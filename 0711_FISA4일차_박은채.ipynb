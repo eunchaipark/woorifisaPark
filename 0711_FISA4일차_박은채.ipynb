{
 "cells": [
  {
   "cell_type": "code",
   "execution_count": null,
   "metadata": {},
   "outputs": [],
   "source": []
  },
  {
   "cell_type": "markdown",
   "metadata": {},
   "source": [
    "함수\n",
    "- 프로그램을 이루는 기본 단위\n",
    "- 중복되는 명령어들을 줄일수 있기 떄문에 효울적인 프로그래밍이 가능해진다\n",
    "- def 함수이름(파라미터, 파라메터, ...):\n",
    "     함수 블록"
   ]
  },
  {
   "cell_type": "code",
   "execution_count": 2,
   "metadata": {},
   "outputs": [
    {
     "name": "stdout",
     "output_type": "stream",
     "text": [
      "5\n"
     ]
    }
   ],
   "source": [
    "def minus(a, b):\n",
    "    result = a - b\n",
    "    print(result)\n",
    "minus(10,5)"
   ]
  },
  {
   "cell_type": "markdown",
   "metadata": {},
   "source": [
    "- 함수의 정의에 따라서 함수 실행에 필요한 값을 호출할 때 반드시 전달해야한다.\n",
    "- 파라미터의 개수와 순서를 맟춰서 값을 넣어주면 된다"
   ]
  },
  {
   "cell_type": "code",
   "execution_count": 4,
   "metadata": {},
   "outputs": [
    {
     "name": "stdout",
     "output_type": "stream",
     "text": [
      "-2 16 63 0.7777777777777778\n"
     ]
    }
   ],
   "source": [
    "def math(a, b):\n",
    "    result1 = a - b\n",
    "    result2 = a +b\n",
    "    result3 = a * b\n",
    "    result4 = a / b\n",
    "    print(result1, result2, result3, result4)\n",
    "math(7,9)"
   ]
  },
  {
   "cell_type": "markdown",
   "metadata": {},
   "source": [
    "입력값은 타입에 따라 전달이 다르다"
   ]
  },
  {
   "cell_type": "markdown",
   "metadata": {},
   "source": [
    "실습. 파라메터로 리스트를 입력받아서 그 리스트를 거꾸로 뒤집어서 출력하는 함수를 만들어보겠습니다.함수 이름은 fun_reverse()"
   ]
  },
  {
   "cell_type": "code",
   "execution_count": 7,
   "metadata": {},
   "outputs": [
    {
     "name": "stdout",
     "output_type": "stream",
     "text": [
      "4\n",
      "3\n",
      "2\n",
      "1\n"
     ]
    }
   ],
   "source": [
    "def fun_reverse(l):\n",
    "    for i in range(len(l)-1,-1,-1):\n",
    "        print(l[i])\n",
    "fun_reverse([1,2,3,4])"
   ]
  },
  {
   "cell_type": "markdown",
   "metadata": {},
   "source": [
    "그냥 함수, 메소드(비파괴적인 함수, 파괴적인 힘수) -\n",
    "- 메모리 효율을 위해 많은 것을 양보함 (리스트 관련 함수는 파괴적 구현) 만약 a 리스트에 10만개의 원소가 들어가 있다면?\n",
    "- a는 a대로, b는 또 a에 무언가를 더해서 메모리에 저장한다면?\n",
    "- 그래서 자신을 파괴(변형)시키고, 대신 다른 변수에 대입하려고 하면 None을 리턴하는 식으로 개발자에게 실수를 방지시킨다\n",
    "- 이후 나온 최신 언어들은 둘다 제공, numpy 등 이후 나온 데이터 관련 패키지들도 비파괴적 함수 제공"
   ]
  },
  {
   "cell_type": "markdown",
   "metadata": {},
   "source": [
    "가변인자 (입력값이 몆개인지 정해져 있지 않는 경우)\n",
    "- def 함수명(*인자): 실행문\n",
    "- 파이썬에서 가변인자(패킹)은 튜플로 묶어서 전달이 되는구나\n",
    "- 튜플은 만들어 놓으면 순서를 바꿀 수 없죠. 파라메터도 들어간 순서대로 출력 되는 거\n",
    "- 그래서 튜플로 전달이 됩니다."
   ]
  },
  {
   "cell_type": "code",
   "execution_count": 9,
   "metadata": {},
   "outputs": [
    {
     "name": "stdout",
     "output_type": "stream",
     "text": [
      "입력 된 변수 개수 :  7개\n",
      "(1, 2, 3, 4, 5, 6, 7)\n",
      "입력 된 변수 개수 :  4개\n",
      "(5, 1, 3, 2)\n"
     ]
    }
   ],
   "source": [
    "def multi_sum(*args): #함수의 매개 변수는 가변 인자 *args로 정의\n",
    "   num = len(args)  \n",
    "   print(\"입력 된 변수 개수 : \", str(num)+\"개\")\n",
    "   print(args)\n",
    "multi_sum(1,2,3,4,5,6,7) #매개변수(int) 7개\n",
    "multi_sum(5,1,3,2) #매개변수(int) 4개\n"
   ]
  },
  {
   "cell_type": "markdown",
   "metadata": {},
   "source": [
    "- 변수이름을 key로 하는 딕셔너리 형태로 묶어서 전달되기 때문입니다.\n",
    "- 가변인자(*args)와 키워드 가변인자(**kwargs)를 함께 사용할 수도 있습니다. 이 경우, 위치 인자와 키워드 인자를 모두 전달할 수 있습니다."
   ]
  },
  {
   "cell_type": "code",
   "execution_count": 11,
   "metadata": {},
   "outputs": [
    {
     "name": "stdout",
     "output_type": "stream",
     "text": [
      "name:John\n",
      "age:30\n",
      "city:Seoul\n"
     ]
    }
   ],
   "source": [
    "def print_info(**kwargs):\n",
    "    for key, value in kwargs.items():\n",
    "        print(key + \":\" + value)\n",
    "print_info(name=\"John\", age=\"30\", city=\"Seoul\")"
   ]
  },
  {
   "cell_type": "code",
   "execution_count": 12,
   "metadata": {},
   "outputs": [
    {
     "name": "stdout",
     "output_type": "stream",
     "text": [
      "John\n",
      "30\n",
      "city: Seoul\n"
     ]
    }
   ],
   "source": [
    "def print_info(*args, **kwargs):\n",
    "    for arg in args:\n",
    "        print(arg)\n",
    "    for key, value in kwargs.items():\n",
    "        print(key + \": \" + value)\n",
    "\n",
    "print_info(\"John\", \"30\", city=\"Seoul\")\n",
    "    "
   ]
  },
  {
   "cell_type": "markdown",
   "metadata": {},
   "source": [
    "반환이 있는 함수\n",
    "- 실행결과를 돌려주는 경우\n",
    "- return을 사용합니다.\n",
    "- 함수 안에함수가 있거나 , 특정클래스에서 클래스 바깥의 함수를 호출하거나 하면 함수안에서만 사용할수 있습니다.\n",
    "- return이 실행되면 함수는 바로 종료됩니다."
   ]
  },
  {
   "cell_type": "code",
   "execution_count": 14,
   "metadata": {},
   "outputs": [
    {
     "data": {
      "text/plain": [
       "{'park': 12}"
      ]
     },
     "execution_count": 14,
     "metadata": {},
     "output_type": "execute_result"
    }
   ],
   "source": [
    "# 실습. 이름과 나이를 입력받아서 딕셔너리 형식으로 반환하는 함수만들기\n",
    "def person_info():\n",
    "    name = input('이름을 입력하시오')\n",
    "    age = int(input('나이를 입력하시오'))\n",
    "    result = {name : age}\n",
    "    return(result)\n",
    "person_info()"
   ]
  },
  {
   "cell_type": "code",
   "execution_count": 17,
   "metadata": {},
   "outputs": [
    {
     "data": {
      "text/plain": [
       "{'name': 'kim', 'age': '22', 'favorite_numbers': (3, 7, 9)}"
      ]
     },
     "execution_count": 17,
     "metadata": {},
     "output_type": "execute_result"
    }
   ],
   "source": [
    "#실습. 좋아하는 숫자 (개수제한 없음)와 name, age를 파라메터로 입력받고 딕셔너리 형태로 함수 person_info1()을 만들어주세요.\n",
    "\n",
    "def person_info1(*favorite_numbers, name, age):\n",
    "    person_dict = {\n",
    "        'name': name,\n",
    "        'age': age,\n",
    "        'favorite_numbers': favorite_numbers\n",
    "    }\n",
    "    return person_dict\n",
    "person_info1(3, 7, 9, name='kim', age='22')"
   ]
  },
  {
   "cell_type": "markdown",
   "metadata": {},
   "source": [
    "# 함수 호출 구조\n",
    "- 함수는 언제 실행이 될까요?\n",
    "    - 호출을 해야 실행이 됩니다\n",
    "    - 실행이 된다?\n",
    "        - 메모리에 함수를 위한 공간이 따로 만들어진다 라는 것을 의미합니다.\n",
    "        - 콜스택(호출스택)이라고 합니다.\n",
    "        - 함수는 함수가 사용하는 고유의 메모리 공간을 가집니다.\n",
    "\n",
    "\n",
    "- 함수는 언제 종료가 되나요?\n",
    "    - 함수는 블록 내에서 더 실행할 명령어가 없으면 종료됩니다.\n",
    "    - return을 만나면 종료됩니다.\n",
    "    - 함수가 종료된다?\n",
    "        - 함수가 사용했던 메모리가 존재하지 않게 된다는 뜻입니다.\n",
    "        - 종료하면서 사용했던 메모리를 반납하고 퇴장합니다.\n",
    "\n",
    "- 지역변수(Local Variable)\n",
    "    - 변수를 메모리 주소 대신이 사용하는 이름??\n",
    "    - 값을 저장하기 위해서 사용하는 메모리 위치가 두군데 있어요.\n",
    "        - 글로벌 메모리\n",
    "        - 로컬 메모리(함수가 사용하는 메모리)\n",
    "            - 함수 안에서만 변수를 정의하면 로컬 메모리에 생성이 되고 그 변수는 지역변수 라고 부릅니다.\n",
    "        - 함수가 실행되는 동안에만 유지\n",
    "            - 함수가 종료되면 참조할 수 없습니다\n",
    "            - 파라메터도 지역변수입니다."
   ]
  },
  {
   "cell_type": "code",
   "execution_count": 27,
   "metadata": {},
   "outputs": [
    {
     "name": "stdout",
     "output_type": "stream",
     "text": [
      "95\n"
     ]
    }
   ],
   "source": [
    "# 실습. 세 개의 숫자를 입력받아 if문을 활용하여 숫자들을 비교하고 가장 작은 수를 리턴하는 minimum 함수를 정의해보세요. 만약에 사용자가 값을 2개만 입력하면 나머지값은 0이 자동으로 들어갑니다.\n",
    "def minimum(*a):\n",
    "    if len(a) == 2:\n",
    "        num1 = a[0]\n",
    "        num2 = a[1]\n",
    "        num3 = 0\n",
    "    else:\n",
    "        num1 = a[0]\n",
    "        num2 = a[1]\n",
    "        num3 = a[2]\n",
    "    if (num1>num2):\n",
    "        if (num1>num3):\n",
    "            print(num3)\n",
    "        else : print(num2)\n",
    "    if (num1<num2):\n",
    "        if (num1<num3):\n",
    "            print(num1)\n",
    "        else : print(num3)\n",
    "\n",
    "minimum(96,95,100)\n",
    "\n"
   ]
  },
  {
   "cell_type": "markdown",
   "metadata": {},
   "source": [
    "# 함수의 다양한 종류\n",
    "\n",
    "- 재귀함수\n",
    "- 익명함수\n",
    "- 함수형 문법\n",
    "\n",
    "\n",
    "## 재귀함수\n",
    "- 정의 단계에서 자신을 재참조하는 함수를 뜻한다. 어떤 사건이 자기 자신을 포함하고 다시 자기 자신을 사용하여 정의될 때 재귀적(recursive)이라고 한다\n",
    "\n",
    "\n",
    "- 자기 자신을 호출하는 함수를 `재귀함수` 혹은 `재귀호출` 이라고 합니다."
   ]
  },
  {
   "cell_type": "code",
   "execution_count": 37,
   "metadata": {},
   "outputs": [
    {
     "data": {
      "text/plain": [
       "5050"
      ]
     },
     "execution_count": 37,
     "metadata": {},
     "output_type": "execute_result"
    }
   ],
   "source": [
    "def nplus(n):\n",
    "    if n == 0:\n",
    "        return 0\n",
    "    else:\n",
    "        n = n + nplus(n-1)\n",
    "        return(n)\n",
    "nplus(100)"
   ]
  },
  {
   "cell_type": "code",
   "execution_count": 40,
   "metadata": {},
   "outputs": [
    {
     "data": {
      "text/plain": [
       "120"
      ]
     },
     "execution_count": 40,
     "metadata": {},
     "output_type": "execute_result"
    }
   ],
   "source": [
    "def nx(n):\n",
    "    if n==1:\n",
    "        return 1\n",
    "    else:\n",
    "        result = (n * nx(n-1))\n",
    "        return(result)\n",
    "nx(5)"
   ]
  },
  {
   "cell_type": "markdown",
   "metadata": {},
   "source": [
    " 익명함수\n",
    "\n",
    "- 파이썬에는 람다(Lambda)를 활용해서 익명함수를 만들 수 있습니다.\n",
    "- 함수 이름이 없기 때문에 '익명함수' 라고 부르는 거에요.\n",
    "- 지금까지 우리가 함수를 만든 이유는 다시 호출하려고 였잖아요.\n",
    "- 한번 사용하고 버리는 (변수명 없어도 되는) 함수를 정의할 때 사용합니다."
   ]
  },
  {
   "cell_type": "code",
   "execution_count": 41,
   "metadata": {},
   "outputs": [
    {
     "name": "stdout",
     "output_type": "stream",
     "text": [
      "15\n",
      "5\n",
      "50\n",
      "2.0\n",
      "Division by zero error\n"
     ]
    }
   ],
   "source": [
    "plus = lambda a, b: a + b\n",
    "\n",
    "# 빼기\n",
    "minus = lambda a, b: a - b\n",
    "\n",
    "# 곱하기\n",
    "multiply = lambda a, b: a * b\n",
    "\n",
    "# 나누기\n",
    "divide = lambda a, b: a / b if b != 0 else 'Division by zero error'\n",
    "\n",
    "# 함수 사용 예시\n",
    "print(plus(10, 5))       # 출력: 15\n",
    "print(minus(10, 5))      # 출력: 5\n",
    "print(multiply(10, 5))   # 출력: 50\n",
    "print(divide(10, 5))     # 출력: 2.0\n",
    "print(divide(10, 0))     # 출력: Division by zero error\n"
   ]
  },
  {
   "cell_type": "markdown",
   "metadata": {},
   "source": [
    "## List Comprehension\n",
    "Comprehension  - 이해력, 포함, 내포\n",
    "\n",
    "- 기존 List를 사용해서 간단히 다른 리스트를 만드는 기법\n",
    "- for + append 보다 속도가 빠릅니다.\n",
    "    - for문은 실행할때마다 메모리 재할당이 발생\n",
    "    - 대부분 프로그램이 느려지는 이유는 재할당 때문입니다.\n",
    "\n",
    "\n",
    "```\n",
    "[(변수에 적용할 수식) for (변수) in (for문이 돌아가는 범위)]\n",
    "```"
   ]
  },
  {
   "cell_type": "code",
   "execution_count": 45,
   "metadata": {},
   "outputs": [
    {
     "name": "stdout",
     "output_type": "stream",
     "text": [
      "[0, 2, 4, 6, 8, 10]\n"
     ]
    }
   ],
   "source": [
    "result = [x for x in range(12) if x % 2 == 0]\n",
    "print(result)"
   ]
  },
  {
   "cell_type": "markdown",
   "metadata": {},
   "source": [
    "# Map\n",
    "- 시퀀스 자료형 각 요소에 동일한 함수를 적용할 때\n",
    "-  map 함수가 반환한 객체는 반복 가능한(iterable) 객체\n",
    "- 실행시점에 값을 생성하기 때문에 메모리 효율적\n",
    "\n",
    "```\n",
    "map(function_name, list_data)"
   ]
  },
  {
   "cell_type": "code",
   "execution_count": 48,
   "metadata": {},
   "outputs": [
    {
     "name": "stdout",
     "output_type": "stream",
     "text": [
      "[2, 4, 6, 8, 10]\n"
     ]
    }
   ],
   "source": [
    "\n",
    "numbers = [1, 2, 3, 4, 5]\n",
    "\n",
    "# 각 숫자를 두 배로 만드는 함수\n",
    "double_numbers = list(map(lambda x: x * 2, numbers))\n",
    "print(double_numbers)"
   ]
  },
  {
   "cell_type": "code",
   "execution_count": 50,
   "metadata": {},
   "outputs": [
    {
     "name": "stdout",
     "output_type": "stream",
     "text": [
      "['APPLE', 'BANANA', 'CHERRY']\n"
     ]
    }
   ],
   "source": [
    "words = ['apple', 'banana', 'cherry']\n",
    "bigword = list(map(lambda x:x.upper(), words))\n",
    "print(bigword)"
   ]
  },
  {
   "cell_type": "code",
   "execution_count": 51,
   "metadata": {},
   "outputs": [
    {
     "name": "stdout",
     "output_type": "stream",
     "text": [
      "[1.1, 2.2, 3.3, 4.4, 5.5]\n"
     ]
    }
   ],
   "source": [
    "string_floats = ['1.1', '2.2', '3.3', '4.4', '5.5']\n",
    "ww = list(map(lambda x : float(x), string_floats))\n",
    "print(ww)"
   ]
  },
  {
   "cell_type": "markdown",
   "metadata": {},
   "source": [
    "# 문자열 메소드\n",
    "## 문자열 (str) 에 자주 사용하는 메소드들이 있습니다.\n",
    "\n",
    "- 문자들의 순서 있는 집합\n",
    "- 여러줄로 이뤄진 문자열 표현도 가능 - 단일, 쌍따옴표 표현\n",
    "- print 함수 사용시 특수 기호로 처리 가능 : \\r(문자열 앞단에 선언)\n",
    "- str() : 문자열로 형변환\n",
    "- 자주 사용되는 문자열 메소드\n",
    "\n",
    "  - split()\n",
    "  - replace()\n",
    "  - strip()\n",
    "  - join()\n",
    "  - format()"
   ]
  },
  {
   "cell_type": "code",
   "execution_count": 53,
   "metadata": {},
   "outputs": [],
   "source": [
    "str1 = '안녕/안녕/안녕하세요/반가워요/좋은아침입니다'"
   ]
  },
  {
   "cell_type": "code",
   "execution_count": 56,
   "metadata": {},
   "outputs": [
    {
     "data": {
      "text/plain": [
       "['안', '/안', '/안', '하세요/반가워요/좋은아침입니다']"
      ]
     },
     "execution_count": 56,
     "metadata": {},
     "output_type": "execute_result"
    }
   ],
   "source": [
    "#문자열.split(t,n)\n",
    "#문자열에서 t 기준으로 n만큼 분리한 문자열 리스트를 반환해주세요\n",
    "str1.split('/',2)\n",
    "str1.split('녕',3)\n",
    "#분리를 시킬 기준이 되는 문자가 삭제된다."
   ]
  },
  {
   "cell_type": "code",
   "execution_count": 58,
   "metadata": {},
   "outputs": [
    {
     "data": {
      "text/plain": [
       "['안녕', '안녕', '안녕하세요/반가워요/좋은아침입니다']"
      ]
     },
     "execution_count": 58,
     "metadata": {},
     "output_type": "execute_result"
    }
   ],
   "source": [
    "#분리시킬 기준이 되는 문자를 삭제시키지 않는다\n",
    "str1.split(sep='/',maxsplit=2)"
   ]
  },
  {
   "cell_type": "code",
   "execution_count": 61,
   "metadata": {},
   "outputs": [
    {
     "data": {
      "text/plain": [
       "['아', '나는', '아침이', '힘들어....']"
      ]
     },
     "execution_count": 61,
     "metadata": {},
     "output_type": "execute_result"
    }
   ],
   "source": [
    "'아 나는 아침이 힘들어....'.split() # default 는 ' '인 것 확인\n",
    "#기본값은 띄어씌기가 된다."
   ]
  },
  {
   "cell_type": "code",
   "execution_count": 63,
   "metadata": {},
   "outputs": [
    {
     "name": "stdout",
     "output_type": "stream",
     "text": [
      "안녕\n",
      "안녕\n",
      "안녕하세요\n",
      "반가워요\n",
      "좋은아침입니다\n"
     ]
    }
   ],
   "source": [
    "for i in str1.split('/'):\n",
    "    print(i)"
   ]
  },
  {
   "cell_type": "code",
   "execution_count": 64,
   "metadata": {},
   "outputs": [
    {
     "data": {
      "text/plain": [
       "'안녕 나는 훈이 아빠야'"
      ]
     },
     "execution_count": 64,
     "metadata": {},
     "output_type": "execute_result"
    }
   ],
   "source": [
    "#replace 문자열 치환\n",
    "str1 = '안녕 나는 짱구 아빠야'\n",
    "str1.replace('짱구', '훈이')"
   ]
  },
  {
   "cell_type": "code",
   "execution_count": 66,
   "metadata": {},
   "outputs": [
    {
     "data": {
      "text/plain": [
       "'안녕 나는 훈구 짱아 짱짱맨 짱 아빠야'"
      ]
     },
     "execution_count": 66,
     "metadata": {},
     "output_type": "execute_result"
    }
   ],
   "source": [
    "str1 = '안녕 나는 짱구 짱아 짱짱맨 짱 아빠야'\n",
    "str1.replace('짱','훈',1) #처음것만 바꾼다 "
   ]
  },
  {
   "cell_type": "code",
   "execution_count": 68,
   "metadata": {},
   "outputs": [
    {
     "name": "stdout",
     "output_type": "stream",
     "text": [
      "          \t hello   \n",
      "        \n"
     ]
    },
    {
     "data": {
      "text/plain": [
       "'hello'"
      ]
     },
     "execution_count": 68,
     "metadata": {},
     "output_type": "execute_result"
    }
   ],
   "source": [
    "#strip 문자열의 앞뒤에 존재하는 (화이트 스페이스)를 전부제거\n",
    "#문자열의 중간에 있는 화이트 스페이스는 제거되지 않는다.\n",
    "st2 = '          \\t hello   \\n        '\n",
    "print(st2)\n",
    "st2.strip()  #'기본적으로 ''즉 띄어쓰기를 지운다'"
   ]
  },
  {
   "cell_type": "code",
   "execution_count": 69,
   "metadata": {},
   "outputs": [
    {
     "data": {
      "text/plain": [
       "'          \\t hello'"
      ]
     },
     "execution_count": 69,
     "metadata": {},
     "output_type": "execute_result"
    }
   ],
   "source": [
    "st2.rstrip() #오른쪽만 다지우기"
   ]
  },
  {
   "cell_type": "code",
   "execution_count": 70,
   "metadata": {},
   "outputs": [
    {
     "data": {
      "text/plain": [
       "'hello   \\n        '"
      ]
     },
     "execution_count": 70,
     "metadata": {},
     "output_type": "execute_result"
    }
   ],
   "source": [
    "st2.lstrip()#외쪽만 다 지우기"
   ]
  },
  {
   "cell_type": "code",
   "execution_count": 73,
   "metadata": {},
   "outputs": [
    {
     "data": {
      "text/plain": [
       "'1010로미오&줄리엣'"
      ]
     },
     "execution_count": 73,
     "metadata": {},
     "output_type": "execute_result"
    }
   ],
   "source": [
    "actors = '1010로미오&줄리엣1010'\n",
    "actors1 = '로미오1010&줄리엣'\n",
    "actors.strip('10')\n",
    "actors.rstrip('10')"
   ]
  },
  {
   "cell_type": "code",
   "execution_count": 76,
   "metadata": {},
   "outputs": [
    {
     "data": {
      "text/plain": [
       "'로미오&줄리엣'"
      ]
     },
     "execution_count": 76,
     "metadata": {},
     "output_type": "execute_result"
    }
   ],
   "source": [
    "actors1.replace('10','')"
   ]
  },
  {
   "cell_type": "code",
   "execution_count": 83,
   "metadata": {},
   "outputs": [
    {
     "data": {
      "text/plain": [
       "['짱구', '짱아', '장구엄마', '짱구아빠']"
      ]
     },
     "execution_count": 83,
     "metadata": {},
     "output_type": "execute_result"
    }
   ],
   "source": [
    "#join\n",
    "a = ['짱구', '짱아', '장구엄마', '짱구아빠']\n",
    "'*'.join(a).split('*')"
   ]
  },
  {
   "cell_type": "code",
   "execution_count": 85,
   "metadata": {},
   "outputs": [
    {
     "data": {
      "text/plain": [
       "'ab'"
      ]
     },
     "execution_count": 85,
     "metadata": {},
     "output_type": "execute_result"
    }
   ],
   "source": [
    "dict1 ={'a':1234,'b':356}\n",
    "''.join(dict1)  #딕셔너리도 사용가능하다 KEY를 중심으로 모인다.\n"
   ]
  },
  {
   "cell_type": "code",
   "execution_count": 90,
   "metadata": {},
   "outputs": [
    {
     "data": {
      "text/plain": [
       "'1234356'"
      ]
     },
     "execution_count": 90,
     "metadata": {},
     "output_type": "execute_result"
    }
   ],
   "source": [
    "#''.join(dict1.values()) #벨류값이 str이여야 사용가능\n",
    "dict1 ={'a':'1234','b':'356'}\n",
    "''.join(dict1.values())"
   ]
  },
  {
   "cell_type": "code",
   "execution_count": 92,
   "metadata": {},
   "outputs": [
    {
     "data": {
      "text/plain": [
       "'1234 356'"
      ]
     },
     "execution_count": 92,
     "metadata": {},
     "output_type": "execute_result"
    }
   ],
   "source": [
    "list(dict1.values())\n",
    "' '.join(dict1.values())"
   ]
  },
  {
   "cell_type": "code",
   "execution_count": 96,
   "metadata": {},
   "outputs": [
    {
     "data": {
      "text/plain": [
       "8"
      ]
     },
     "execution_count": 96,
     "metadata": {},
     "output_type": "execute_result"
    }
   ],
   "source": [
    "string2 = \"\"\"It might seem crazy what I am 'bout to say\n",
    "Sunshine she's here, you can take a break\n",
    "I'm a hot air balloon that could go to space\n",
    "With the air, like I don't care, baby by the way\n",
    "Huh (Because I'm happy)\n",
    "Clap along if you feel like a room without a roof\n",
    "(Because I'm happy)\n",
    "Clap along if you feel like happiness is the truth\n",
    "(Because I'm happy)\n",
    "Clap along if you know what happiness is to you\n",
    "(Because I'm happy)\n",
    "Clap along if you feel like that's what you wanna do\n",
    "Here come bad news talking this and that (Yeah)\n",
    "Well give me all you got, don't hold back (Yeah)\n",
    "Well I should probably warn you I'll be just fine (Yeah)\n",
    "No offence to you don't waste your time\n",
    "Here's why\n",
    "Clap along if you feel like a room without a roof\n",
    "(Because I'm happy)\n",
    "Clap along if you feel like happiness is the truth\n",
    "(Because I'm happy)\n",
    "Clap along if you know what happiness is to you\n",
    "(Because I'm happy)\n",
    "Clap along if you feel like that's what you wanna do\n",
    "string2.upper().count('HAPPY')\"\"\"\n",
    "string2.upper().count('HAPPY')"
   ]
  },
  {
   "cell_type": "code",
   "execution_count": 98,
   "metadata": {},
   "outputs": [
    {
     "data": {
      "text/plain": [
       "3"
      ]
     },
     "execution_count": 98,
     "metadata": {},
     "output_type": "execute_result"
    }
   ],
   "source": [
    "#find\n",
    "str1 = 'IT AI AI Engineering Engineer deer'\n",
    "str1.find('AI')"
   ]
  },
  {
   "cell_type": "markdown",
   "metadata": {},
   "source": [
    "# 정규식(Regular Expression)\n",
    "```\n",
    " \"특정 조건 또는 패턴\"을 치환하는 과정을 쉽게 처리할 수 있는 방법\n",
    "```\n",
    "\n",
    "- match() : 문자열의 첫 시작부터 정규식과 매치되는지 조사한다.\n",
    "- search() :\t문자열 전체를 검색하여 정규식과 매치되는지 조사한다.\n",
    "- findall()\t: 정규식과 매치되는 모든 문자열(substring)을 리스트로 돌려준다.\n",
    "- finditer() : 정규식과 매치되는 모든 문자열(substring)을 반복 가능한 객체로 돌려준다."
   ]
  },
  {
   "cell_type": "code",
   "execution_count": 100,
   "metadata": {},
   "outputs": [],
   "source": [
    "str1\n",
    "import re\n",
    "p = re.compile('AI')\n",
    "p.match(str1)"
   ]
  },
  {
   "cell_type": "code",
   "execution_count": 102,
   "metadata": {},
   "outputs": [
    {
     "data": {
      "text/plain": [
       "<re.Match object; span=(3, 5), match='AI'>"
      ]
     },
     "execution_count": 102,
     "metadata": {},
     "output_type": "execute_result"
    }
   ],
   "source": [
    "p.search(str1)"
   ]
  },
  {
   "cell_type": "code",
   "execution_count": 104,
   "metadata": {},
   "outputs": [
    {
     "data": {
      "text/plain": [
       "['AI']"
      ]
     },
     "execution_count": 104,
     "metadata": {},
     "output_type": "execute_result"
    }
   ],
   "source": [
    "p.findall('AI')"
   ]
  },
  {
   "cell_type": "markdown",
   "metadata": {},
   "source": [
    "## fstring\n",
    "- 문자열 앞에 f를 붙여주면 됩니다\n",
    "- 파이썬 3.6부터 사용 가능\n",
    "- 가장 최신 문법, 가장 간결하고 직관적인 표현법"
   ]
  },
  {
   "cell_type": "code",
   "execution_count": 108,
   "metadata": {},
   "outputs": [
    {
     "name": "stdout",
     "output_type": "stream",
     "text": [
      "파이 3.14\n"
     ]
    }
   ],
   "source": [
    "print(f'파이 {round(3.14, 2)}')"
   ]
  },
  {
   "cell_type": "code",
   "execution_count": 109,
   "metadata": {},
   "outputs": [
    {
     "ename": "NameError",
     "evalue": "name 'args' is not defined",
     "output_type": "error",
     "traceback": [
      "\u001b[1;31m---------------------------------------------------------------------------\u001b[0m",
      "\u001b[1;31mNameError\u001b[0m                                 Traceback (most recent call last)",
      "Cell \u001b[1;32mIn[109], line 1\u001b[0m\n\u001b[1;32m----> 1\u001b[0m \u001b[38;5;28mstr\u001b[39m\u001b[38;5;241m.\u001b[39mformat(\u001b[38;5;241m*\u001b[39m\u001b[43margs\u001b[49m, \u001b[38;5;241m*\u001b[39m\u001b[38;5;241m*\u001b[39mkwargs)\n",
      "\u001b[1;31mNameError\u001b[0m: name 'args' is not defined"
     ]
    }
   ],
   "source": [
    "str.format(*args, **kwargs)"
   ]
  },
  {
   "cell_type": "code",
   "execution_count": 112,
   "metadata": {},
   "outputs": [
    {
     "name": "stdout",
     "output_type": "stream",
     "text": [
      "Writing flush_true.py\n"
     ]
    }
   ],
   "source": [
    "%%writefile flush_true.py\n",
    "import time\n",
    "\n",
    "start_time = time.time()\n",
    "\n",
    "for i in range(15):\n",
    "    print(i, end=' ', flush=True)\n",
    "    time.sleep(1)\n",
    "\n",
    "end_time = time.time()\n",
    "elapsed_time = end_time - start_time\n",
    "print(elapsed_time)\n",
    "\n",
    "time.sleep(3)"
   ]
  },
  {
   "cell_type": "code",
   "execution_count": null,
   "metadata": {},
   "outputs": [],
   "source": []
  }
 ],
 "metadata": {
  "kernelspec": {
   "display_name": "Python 3",
   "language": "python",
   "name": "python3"
  },
  "language_info": {
   "codemirror_mode": {
    "name": "ipython",
    "version": 3
   },
   "file_extension": ".py",
   "mimetype": "text/x-python",
   "name": "python",
   "nbconvert_exporter": "python",
   "pygments_lexer": "ipython3",
   "version": "3.12.3"
  }
 },
 "nbformat": 4,
 "nbformat_minor": 2
}
