{
 "cells": [
  {
   "cell_type": "markdown",
   "metadata": {},
   "source": [
    "# 모듈\n",
    "- 이미 만들어진 파이썬 소스파일(라이브러리)\n",
    "    - 파이썬은 모듈을 만들기 위한 추가 과정은 필요하지 않습니다.\n",
    "    - 파이썬 소스파일은 모듈로 사용할 수 있습니다.\n",
    "    - 재사용성을 위해서 그렇게 쓰고요\n",
    "\n",
    "    - ipynb파일로 저장되는 코랩, 주피터 파일들은 모듈이 될 수 없습니다.\n",
    "    - 모듈은 파이썬 언어로 쓰여진 py 확장자인 소스파일만 가능합니다."
   ]
  },
  {
   "cell_type": "markdown",
   "metadata": {},
   "source": [
    "# 모듈은 어디서 가져오는지??\n",
    "    - 파이썬 소스파일에서 가져옵니다\n",
    "    - 근데 어디있다고 알려는 줘야 합니다.\n",
    "    - 그래서 모듈은 위치를 미리 지정해놓습니다.\n",
    "    - 모듈은 항상 그 위치에서 가져오도록 만들어 놓습니다."
   ]
  },
  {
   "cell_type": "code",
   "execution_count": 44,
   "metadata": {},
   "outputs": [
    {
     "name": "stdout",
     "output_type": "stream",
     "text": [
      "c:\\ITStudy\n"
     ]
    }
   ],
   "source": [
    "!cd \n",
    "# print working directory"
   ]
  },
  {
   "cell_type": "code",
   "execution_count": 12,
   "metadata": {},
   "outputs": [
    {
     "name": "stdout",
     "output_type": "stream",
     "text": [
      "Writing test_library/test2.py\n"
     ]
    }
   ],
   "source": [
    "%%writefile test_library/test2.py #test_libary 에 test2.py 생성이후에 입력\n",
    "\n",
    "def final_from_test2(yay):\n",
    "    print('test2.py에 있는 함수입니다.') \n",
    "\n",
    "PI = 3.1423241241241254235"
   ]
  },
  {
   "cell_type": "code",
   "execution_count": 13,
   "metadata": {},
   "outputs": [
    {
     "name": "stdout",
     "output_type": "stream",
     "text": [
      "Writing test_library/test1.py\n"
     ]
    }
   ],
   "source": [
    "%%writefile test_library/test1.py\n",
    "\n",
    "def final_from_test1(yay):\n",
    "    print('test1.py에 있는 함수입니다.') \n",
    "\n",
    "PI = 3.1423241241241254235"
   ]
  },
  {
   "cell_type": "code",
   "execution_count": 17,
   "metadata": {},
   "outputs": [
    {
     "name": "stdout",
     "output_type": "stream",
     "text": [
      "test2.py에 있는 함수입니다.\n"
     ]
    }
   ],
   "source": [
    "import test_library.test2 #test2에 있는 함수를 올려놓는다\n",
    "test_library.test2.final_from_test2('hello')"
   ]
  },
  {
   "cell_type": "code",
   "execution_count": 19,
   "metadata": {},
   "outputs": [
    {
     "name": "stdout",
     "output_type": "stream",
     "text": [
      "test1.py에 있는 함수입니다.\n"
     ]
    }
   ],
   "source": [
    "import test_library.test1 #test2에 있는 함수를 올려놓는다\n",
    "test_library.test1.final_from_test1('hello')"
   ]
  },
  {
   "cell_type": "code",
   "execution_count": 22,
   "metadata": {},
   "outputs": [
    {
     "name": "stdout",
     "output_type": "stream",
     "text": [
      "test1.py에 있는 함수입니다.\n"
     ]
    }
   ],
   "source": [
    "import test_library.test1 as tlt1 #test2를 tlt1으로 부른다 짧은 경로로 만든다\n",
    "#import numpy as np\n",
    "tlt1.final_from_test1('hello')"
   ]
  },
  {
   "cell_type": "code",
   "execution_count": 49,
   "metadata": {},
   "outputs": [
    {
     "name": "stdout",
     "output_type": "stream",
     "text": [
      "test1.py에 있는 함수입니다.\n"
     ]
    },
    {
     "data": {
      "text/plain": [
       "3.1423241241241255"
      ]
     },
     "execution_count": 49,
     "metadata": {},
     "output_type": "execute_result"
    }
   ],
   "source": [
    "from test_library.test1 import * #*은 0개 이상의 모든것을 의미 test_libaray안의 test1에서 모든것(*)을 가져오겟다\n",
    "final_from_test1('hello')\n",
    "# 어디 출신인지 안쓰고도 해당 함수와 변수를 사용할수 있게 된다.\n",
    "PI\n",
    "#변수도 마찬가지로 사용할수 있게 된다. 즉 모든것을 가져온다."
   ]
  },
  {
   "cell_type": "code",
   "execution_count": 48,
   "metadata": {},
   "outputs": [
    {
     "name": "stdout",
     "output_type": "stream",
     "text": [
      "test2.py에 있는 함수입니다.\n"
     ]
    },
    {
     "data": {
      "text/plain": [
       "3.1423241241241255"
      ]
     },
     "execution_count": 48,
     "metadata": {},
     "output_type": "execute_result"
    }
   ],
   "source": [
    "from test_library.test2 import final_from_test2 #final_from_test2만 불러온다\n",
    "final_from_test2('hello')\n",
    "# final_from_test2만 출신을 안따지고 쓴다\n",
    "PI"
   ]
  },
  {
   "cell_type": "code",
   "execution_count": 47,
   "metadata": {},
   "outputs": [
    {
     "name": "stdout",
     "output_type": "stream",
     "text": [
      "test2.py에 있는 함수입니다.\n"
     ]
    },
    {
     "data": {
      "text/plain": [
       "3.1423241241241255"
      ]
     },
     "execution_count": 47,
     "metadata": {},
     "output_type": "execute_result"
    }
   ],
   "source": [
    "from test_library.test2 import * #*은 0개 이상의 모든것을 의미 test_libaray안의 test1에서 모든것(*)을 가져오겟다\n",
    "final_from_test2('hello')\n",
    "# 어디 출신인지 안쓰고도 해당 함수와 변수를 사용할수 있게 된다.\n",
    "PI\n",
    "#변수도 마찬가지로 사용할수 있게 된다. 즉 모든것을 가져온다."
   ]
  },
  {
   "cell_type": "code",
   "execution_count": 50,
   "metadata": {},
   "outputs": [
    {
     "name": "stdout",
     "output_type": "stream",
     "text": [
      "Overwriting test_library/test2.py\n"
     ]
    }
   ],
   "source": [
    "%%writefile test_library/test2.py \n",
    "#위에 뒤에 주석쓰면 터머널에서 같이 쓰여지기에 쓰면 안됨\n",
    "def final_from_test2(yay):\n",
    "    print('test2.py에 있는 함수입니다.- 수정본') \n",
    "\n",
    "PI = 3.14\n",
    "#메모리에 긁어올때 맨처음에 있던 코드를 계속 실행한다."
   ]
  },
  {
   "cell_type": "code",
   "execution_count": 51,
   "metadata": {},
   "outputs": [
    {
     "data": {
      "text/plain": [
       "['c:\\\\Users\\\\PARK\\\\AppData\\\\Local\\\\Programs\\\\Python\\\\Python312\\\\python312.zip',\n",
       " 'c:\\\\Users\\\\PARK\\\\AppData\\\\Local\\\\Programs\\\\Python\\\\Python312\\\\DLLs',\n",
       " 'c:\\\\Users\\\\PARK\\\\AppData\\\\Local\\\\Programs\\\\Python\\\\Python312\\\\Lib',\n",
       " 'c:\\\\Users\\\\PARK\\\\AppData\\\\Local\\\\Programs\\\\Python\\\\Python312',\n",
       " '',\n",
       " 'C:\\\\Users\\\\PARK\\\\AppData\\\\Roaming\\\\Python\\\\Python312\\\\site-packages',\n",
       " 'C:\\\\Users\\\\PARK\\\\AppData\\\\Roaming\\\\Python\\\\Python312\\\\site-packages\\\\win32',\n",
       " 'C:\\\\Users\\\\PARK\\\\AppData\\\\Roaming\\\\Python\\\\Python312\\\\site-packages\\\\win32\\\\lib',\n",
       " 'C:\\\\Users\\\\PARK\\\\AppData\\\\Roaming\\\\Python\\\\Python312\\\\site-packages\\\\Pythonwin',\n",
       " 'c:\\\\Users\\\\PARK\\\\AppData\\\\Local\\\\Programs\\\\Python\\\\Python312\\\\Lib\\\\site-packages']"
      ]
     },
     "execution_count": 51,
     "metadata": {},
     "output_type": "execute_result"
    }
   ],
   "source": [
    "\n",
    "import sys#시스템과 관련된 모듈\n",
    "sys.path"
   ]
  },
  {
   "cell_type": "code",
   "execution_count": 40,
   "metadata": {},
   "outputs": [
    {
     "name": "stdout",
     "output_type": "stream",
     "text": [
      "Writing functools.py\n"
     ]
    }
   ],
   "source": [
    "%%writefile functools.py\n",
    "\n",
    "def hello():\n",
    "\tprint('how are you?')"
   ]
  },
  {
   "cell_type": "markdown",
   "metadata": {},
   "source": [
    "파일명들은 되도록 많이 사용하는 패키지 혹은 모듈이름과 겹치지 않도록 작성합니다.\n",
    "sys.path에 등록된 0번 방부터 찾는데 \n",
    "이런 선형구조에서는 앞에서 true이면 앞폴더 앞에서 해당 파일을 찾고 나면 뒤 경로는 가지 않기때문에\n"
   ]
  },
  {
   "cell_type": "markdown",
   "metadata": {},
   "source": [
    "모듈을 불러올떄는 모듈명 . 변수. / 모듈 별칭명.함수()정도로 사용하도록 모듈을 불러와서 쓴다\n",
    "아니면내장 함수들 / 변수들과 구분되지 않아서 내장함수를 덮어쓰게 된다"
   ]
  },
  {
   "cell_type": "code",
   "execution_count": 57,
   "metadata": {},
   "outputs": [
    {
     "name": "stdout",
     "output_type": "stream",
     "text": [
      "C:\\Users\\PARK\n"
     ]
    }
   ],
   "source": [
    "!cd \n",
    "#현재 내가 위치하는 경로"
   ]
  },
  {
   "cell_type": "code",
   "execution_count": null,
   "metadata": {},
   "outputs": [],
   "source": [
    "#from google.colab import drive\n",
    "#drive.mount('/content/drive')\n",
    "#colab과 나의 드라이브와 연동해서 연결한다."
   ]
  },
  {
   "cell_type": "code",
   "execution_count": null,
   "metadata": {},
   "outputs": [],
   "source": [
    "#%%writefile /content/drive/MyDrive/ITStudyG/hello_bye.py\n",
    "\n",
    "#def hello():\n",
    "#\tprint('how are you?')\n",
    "\n",
    "    #colab에서 쓰는 방식인데 이걸로 colab안에서 파일을 작성해서 만든다."
   ]
  },
  {
   "cell_type": "markdown",
   "metadata": {},
   "source": [
    " 전체 경로로 불러오기\n",
    "\n",
    " 모듈명 as 별명 \n",
    "  별명.함수()\n",
    "\n",
    "  from 라이브러리명 import 모듈명\n",
    " 모듈명.함수\n",
    "\n",
    " from 라이브러명.모듈명 import 쓰려는함수명만\n",
    " 쓰려는함수명만\n",
    " from 라이브러명.모듈명 import * \n",
    " 함수"
   ]
  },
  {
   "cell_type": "code",
   "execution_count": 59,
   "metadata": {},
   "outputs": [],
   "source": [
    "import sys\n",
    "# system 관련된 여러 설정들을 제어해주는 파이썬의 모듈"
   ]
  },
  {
   "cell_type": "markdown",
   "metadata": {},
   "source": [
    "# 패키지\n",
    "\n",
    "    - 모듈(여러개 파일)을 하나로 묶어서 관리하는 것\n",
    "    - 파이썬 패키지는 폴더로 관리\n",
    "    - 같은 폴더에 있으면 패키지가 됩니다\n",
    "    - 패키지의 이름은 폴더의 이름이 됩니다.\n",
    "\n",
    "- 버전에 따라서 폴더를 패키지로 인식할 수도 있고 인식하지 않을 수도 있습니다. (3 이하 버전)\n",
    "    - 혹시 몰라서 호환용으로\n",
    "    - __init__.py 가 들어있으면 패키지로 파이썬이 인식을 합니다.\n",
    "    - 파일의 내용은 없어도 됩니다."
   ]
  },
  {
   "cell_type": "code",
   "execution_count": 71,
   "metadata": {},
   "outputs": [
    {
     "name": "stdout",
     "output_type": "stream",
     "text": [
      "C:\\Users\\PARK\n"
     ]
    }
   ],
   "source": [
    "!cd"
   ]
  },
  {
   "cell_type": "code",
   "execution_count": 69,
   "metadata": {},
   "outputs": [
    {
     "name": "stdout",
     "output_type": "stream",
     "text": [
      "Writing C:/ITStudy/test_library/math1.py\n"
     ]
    }
   ],
   "source": [
    "%%writefile C:/ITStudy/test_library/math1.py \n",
    "#파일을 쓸때 !cd를 써서 현재나의 위치를 찾아서 쓸 파일 경로를 찾아야한다.\n",
    "def multiply(x, y):\n",
    "    return x*y\n",
    "\n",
    "def divide(x, y):\n",
    "    return x/y\n",
    "\n",
    "PI = 3.14"
   ]
  },
  {
   "cell_type": "code",
   "execution_count": 91,
   "metadata": {},
   "outputs": [
    {
     "data": {
      "text/plain": [
       "3.14"
      ]
     },
     "execution_count": 91,
     "metadata": {},
     "output_type": "execute_result"
    }
   ],
   "source": [
    "import test_library.math1 as m1\n",
    "m1.multiply(2,4)\n",
    "m1.divide(10,2)\n",
    "m1.PI\n"
   ]
  },
  {
   "cell_type": "code",
   "execution_count": 92,
   "metadata": {},
   "outputs": [
    {
     "data": {
      "text/plain": [
       "['c:\\\\Users\\\\PARK\\\\AppData\\\\Local\\\\Programs\\\\Python\\\\Python312\\\\python312.zip',\n",
       " 'c:\\\\Users\\\\PARK\\\\AppData\\\\Local\\\\Programs\\\\Python\\\\Python312\\\\DLLs',\n",
       " 'c:\\\\Users\\\\PARK\\\\AppData\\\\Local\\\\Programs\\\\Python\\\\Python312\\\\Lib',\n",
       " 'c:\\\\Users\\\\PARK\\\\AppData\\\\Local\\\\Programs\\\\Python\\\\Python312',\n",
       " '',\n",
       " 'C:\\\\Users\\\\PARK\\\\AppData\\\\Roaming\\\\Python\\\\Python312\\\\site-packages',\n",
       " 'C:\\\\Users\\\\PARK\\\\AppData\\\\Roaming\\\\Python\\\\Python312\\\\site-packages\\\\win32',\n",
       " 'C:\\\\Users\\\\PARK\\\\AppData\\\\Roaming\\\\Python\\\\Python312\\\\site-packages\\\\win32\\\\lib',\n",
       " 'C:\\\\Users\\\\PARK\\\\AppData\\\\Roaming\\\\Python\\\\Python312\\\\site-packages\\\\Pythonwin',\n",
       " 'c:\\\\Users\\\\PARK\\\\AppData\\\\Local\\\\Programs\\\\Python\\\\Python312\\\\Lib\\\\site-packages']"
      ]
     },
     "execution_count": 92,
     "metadata": {},
     "output_type": "execute_result"
    }
   ],
   "source": [
    "sys.path"
   ]
  },
  {
   "cell_type": "code",
   "execution_count": null,
   "metadata": {},
   "outputs": [],
   "source": [
    "#sys.path.append()\n",
    "#이것을 경로를 추가한다. 가져오고 싶은 모듈이 있는 폴더의 경로를 추가해주면 된다.\n",
    "#파일 경로가 아닌 파일이 들어있는 폴더의 경로"
   ]
  },
  {
   "cell_type": "code",
   "execution_count": 99,
   "metadata": {},
   "outputs": [
    {
     "name": "stdout",
     "output_type": "stream",
     "text": [
      "C:\\ITStudy\n"
     ]
    },
    {
     "name": "stderr",
     "output_type": "stream",
     "text": [
      "C:\\Users\\PARK\\AppData\\Roaming\\Python\\Python312\\site-packages\\IPython\\core\\magics\\osm.py:417: UserWarning: This is now an optional IPython functionality, setting dhist requires you to install the `pickleshare` library.\n",
      "  self.shell.db['dhist'] = compress_dhist(dhist)[-100:]\n"
     ]
    }
   ],
   "source": [
    "cd/ITStudy"
   ]
  },
  {
   "cell_type": "code",
   "execution_count": 101,
   "metadata": {},
   "outputs": [
    {
     "name": "stdout",
     "output_type": "stream",
     "text": [
      "C:\\ITStudy\n"
     ]
    }
   ],
   "source": [
    "!cd"
   ]
  },
  {
   "cell_type": "code",
   "execution_count": 102,
   "metadata": {},
   "outputs": [
    {
     "data": {
      "text/plain": [
       "5.0"
      ]
     },
     "execution_count": 102,
     "metadata": {},
     "output_type": "execute_result"
    }
   ],
   "source": [
    "import test_library.math1 as m1\n",
    "m1.divide(10,2)\n"
   ]
  },
  {
   "cell_type": "code",
   "execution_count": 104,
   "metadata": {},
   "outputs": [],
   "source": [
    "import numpy as np\n",
    "npli = np.array([1,2,3,4,5])"
   ]
  },
  {
   "cell_type": "code",
   "execution_count": 108,
   "metadata": {},
   "outputs": [
    {
     "name": "stdout",
     "output_type": "stream",
     "text": [
      "[1 2 3 4 5]\n"
     ]
    },
    {
     "data": {
      "text/plain": [
       "numpy.ndarray"
      ]
     },
     "execution_count": 108,
     "metadata": {},
     "output_type": "execute_result"
    }
   ],
   "source": [
    "print(npli)\n",
    "(type(npli))"
   ]
  },
  {
   "cell_type": "markdown",
   "metadata": {},
   "source": [
    "# 예외처리\n",
    "\n",
    "예외(exception)란?\n",
    "- 일반적으로 오류 혹은 에러 라고 불리웁니다.\n",
    "- 프로그램 실행 중에 예외가 발생하면 '비정상종료'가 되는데요\n",
    "- 비정상 종료를 막기 위해서 에러(예외)가 발생된 이후의 문장은 정상적으로 수행하도록 처리하는 방법을 우리는 예외처리 라고 부릅니다.\n",
    "\n",
    "\n",
    "```\n",
    "try:\n",
    "    예외가 발생할 가능성이 있는 코드\n",
    "except:\n",
    "    예외가 발생할 때 실행할 코드\n",
    "except:\n",
    "    예외가 발생할 때 실행할 코드\n",
    "except:\n",
    "    예외가 발생할 때 실행할 코드\n",
    "else:\n",
    "    잘 실행되면 실행할 코드\n",
    "finally:\n",
    "    되든 안되든 반드시 실행할 코드"
   ]
  },
  {
   "cell_type": "markdown",
   "metadata": {},
   "source": [
    "- 코드를 작성하면서 발생할 수 있는 예외 처리 방법 2가지\n",
    "\n",
    "    1. LBYL(Look Before You Leap)\n",
    "    - 뛰기 전에 확인해라 : 에러가 나기 전에 잘 처리해라\n",
    "    - 코드 실행 전에 예외 발생 없게 미리 검증하고 실행하자\n",
    "    - 발생할 수 있는 모든 예외 상황에 미리 예측하자\n",
    "    - 현실적으로 불가능\n",
    "        - 완벽하게 예외를 예측하고, 전부 처리할 수 없습니다.\n",
    "        - 이게 가능하면 패치, 업데이트 할 필요도 없겠죠\n",
    "\n",
    "    2. EAFP(It's Easier Ask Forgiveness Than Permission)\n",
    "    - 허락보다 용서가 쉽다 : 나고 나면 그 다음으로 잘 넘어가도록 처리해라\n",
    "    - 일단 코드를 실행하고 예외가 발생하면 그때 처리해라\n",
    "    - 파이썬 표준에서는 EAFP 방법을 권장합니다."
   ]
  },
  {
   "cell_type": "code",
   "execution_count": 125,
   "metadata": {},
   "outputs": [
    {
     "name": "stdout",
     "output_type": "stream",
     "text": [
      "정수를 입력하시오\n",
      "try구문이 성공적으로 완료\n",
      "try구문이 서옹하든 실패하든 동작합니다.\n"
     ]
    }
   ],
   "source": [
    "# 0이상의 정수를 입력하시오\n",
    "#전통적인 방식의 예외처리 사실상 모두 에러를 막는건 불가능하다.\n",
    "try  :\n",
    "    a = int(input('입력하시오'))\n",
    "    if type(a) != int :\n",
    "        print('숫자를 입력하시오')\n",
    "        False\n",
    "        \n",
    "    elif a <= 0:\n",
    "        print('정수를 입력하시오')\n",
    "        False\n",
    "        \n",
    "    else: True\n",
    "\n",
    "#예외를 여러가지로 나누어서 처리할경우 하위예외에서 상위예외 순으로 처리한다\n",
    "#이유는 상위예외 먼저하면 하위예외는 동작하지 않기때문이다.\n",
    "except TypeError:\n",
    "    print('타입 에러발생')\n",
    "    #ininstance--\n",
    "except Exception as e: \n",
    "    print('오류 exception', e )\n",
    "except\n",
    "except BaseException :\n",
    "    print(\"BaseException 오류\")\n",
    "else : \n",
    "    print('try구문이 성공적으로 완료')\n",
    "finally :\n",
    "    print('try구문이 서옹하든 실패하든 동작합니다.')"
   ]
  },
  {
   "cell_type": "code",
   "execution_count": 129,
   "metadata": {},
   "outputs": [
    {
     "name": "stdout",
     "output_type": "stream",
     "text": [
      "참\n",
      "try 구문이 성공적으로 에러 없이 완료됐습니다.\n",
      "try 구문이 성공하든 실패하든 동작합니다.\n"
     ]
    }
   ],
   "source": [
    "try: # 에러가 나는지 감시\n",
    "    num = input('0 이상의 정수 입력:')\n",
    "\n",
    "    if int(num) >= 0:\n",
    "        print('참')\n",
    "    else:\n",
    "        print('다시 입력하세요')\n",
    "\n",
    "except TypeError :\n",
    "    print('에러 발생 - TypeError')\n",
    "\n",
    "except Exception:\n",
    "    print('에러 발생 - Exception')\n",
    "except (ValueError, TypeError) as e:\n",
    "    print('둘중에 하나임',e)\n",
    "except BaseException:\n",
    "    print('에러 발생 - BaseException')\n",
    "\n",
    "else:\n",
    "    print('try 구문이 성공적으로 에러 없이 완료됐습니다.')\n",
    "\n",
    "finally:\n",
    "\n",
    "    print('try 구문이 성공하든 실패하든 동작합니다.')"
   ]
  },
  {
   "cell_type": "code",
   "execution_count": 138,
   "metadata": {},
   "outputs": [
    {
     "name": "stdout",
     "output_type": "stream",
     "text": [
      "잘못 입력하셨습니다\n",
      "try 구문이 성공적으로 에러 없이 완료됐습니다.\n",
      "try 구문이 성공하든 실패하든 동작합니다.\n"
     ]
    }
   ],
   "source": [
    "# 조건: 0 이상의 정수를 입력받습니다.\n",
    "# 조건 만족시 True, 조건을 만족시키지 못하면 '잘못 입력하셨습니다'\n",
    "# 여기서 날 수 있는 에러의 종류를 찾아보세요\n",
    "# try ~ except로 이 함수가 실행되면서 날 수 있는 예외를 Syntax Error를 제외하고 모두 처리해보세요\n",
    "import re\n",
    "\n",
    "def check_num():\n",
    "    num = input('0 이상의 정수 출력')\n",
    "    pat = re.compile(r'.+[a-zA-Z가-힣.,/ ]+')\n",
    "\n",
    "    if re.match(pat, num):\n",
    "        return print('잘못 입력하셨습니다')\n",
    "    \n",
    "    return print('True')\n",
    "  \n",
    "try:\n",
    "    check_num()\n",
    "except TypeError :\n",
    "    print('타입 에러 발생 - TypeError')\n",
    "except (ValueError, TypeError) as e:\n",
    "    print('둘중에 하나임',e)\n",
    "except Exception:\n",
    "    print('예외 에러 발생 - Exception')\n",
    "except BaseException:\n",
    "    print('Base 에러 발생 - BaseException')\n",
    "else:\n",
    "    print('try 구문이 성공적으로 에러 없이 완료됐습니다.')\n",
    "\n",
    "finally:\n",
    "    print('try 구문이 성공하든 실패하든 동작합니다.')\n"
   ]
  },
  {
   "cell_type": "code",
   "execution_count": 139,
   "metadata": {},
   "outputs": [
    {
     "name": "stdout",
     "output_type": "stream",
     "text": [
      "잘못 입력하셨습니다\n",
      "try 구문이 성공하든 실패하든 동작합니다.\n"
     ]
    }
   ],
   "source": [
    "import re\n",
    "\n",
    "def check_num():\n",
    "    num = input('0 이상의 정수 출력')\n",
    "    pat = re.compile(r'.+[a-zA-Z가-힣.,/ ]+')\n",
    "\n",
    "    try :\n",
    "        if re.match(pat, num):\n",
    "            return print('잘못 입력하셨습니다')\n",
    "    \n",
    "        return print('True')\n",
    "    except TypeError :\n",
    "        print('타입 에러 발생 - TypeError')\n",
    "\n",
    "    \n",
    "    except ValueError as e:\n",
    "        print('둘중에 하나임',e)\n",
    "    except Exception:\n",
    "        print('예외 에러 발생 - Exception')\n",
    "    except BaseException:\n",
    "        print('Base 에러 발생 - BaseException')\n",
    "    else:\n",
    "        print('try 구문이 성공적으로 에러 없이 완료됐습니다.')\n",
    "\n",
    "    finally:\n",
    "        print('try 구문이 성공하든 실패하든 동작합니다.')\n",
    "check_num()\n",
    "    "
   ]
  },
  {
   "cell_type": "code",
   "execution_count": 140,
   "metadata": {},
   "outputs": [
    {
     "name": "stdout",
     "output_type": "stream",
     "text": [
      "잘못 입력하셨습니다\n"
     ]
    }
   ],
   "source": [
    "# 조건: 0 이상의 정수를 입력받습니다.\n",
    "# 조건 만족시 True, 조건을 만족시키지 못하면 '잘못 입력하셨습니다'\n",
    "# 여기서 날 수 있는 에러의 종류를 찾아보세요\n",
    "# try ~ except로 이 함수가 실행되면서 날 수 있는 예외를 Syntax Error를 제외하고 모두 처리해보세요\n",
    "import re\n",
    "\n",
    "def check_num():\n",
    "    num = input('0 이상의 정수 출력')\n",
    "    pat = re.compile(r'[\\D]+')\n",
    "\n",
    "    if re.match(pat, num):\n",
    "        return print('잘못 입력하셨습니다')\n",
    "    \n",
    "    return print('True')\n",
    "  \n",
    "check_num()"
   ]
  },
  {
   "cell_type": "code",
   "execution_count": 142,
   "metadata": {},
   "outputs": [
    {
     "name": "stdout",
     "output_type": "stream",
     "text": [
      "🚧🚧 에러 발생 🚧🚧\n",
      "🚧🚧 invalid literal for int() with base 10: '가'\n"
     ]
    }
   ],
   "source": [
    "def check_num():\n",
    "    num = input('0 이상의 정수 출력')\n",
    "    \n",
    "    try:\n",
    "        if int(num) > 0:\n",
    "            return print('True')\n",
    "        else:\n",
    "            return print('잘못 입력하셨습니다')\n",
    "    except (TypeError, ValueError, ReferenceError, Exception, BaseException) as e:\n",
    "      \n",
    "        return print(f'🚧🚧 에러 발생 🚧🚧\\n🚧🚧 {e}')\n",
    "\n",
    "check_num()"
   ]
  },
  {
   "cell_type": "code",
   "execution_count": 147,
   "metadata": {},
   "outputs": [
    {
     "name": "stderr",
     "output_type": "stream",
     "text": [
      "Traceback (most recent call last):\n",
      "  File \"C:\\Users\\PARK\\AppData\\Local\\Temp\\ipykernel_764\\2409839036.py\", line 10, in <module>\n",
      "    print(convert((1,2,3,4)))\n",
      "          ^^^^^^^^^^^^^^^^^^\n",
      "  File \"C:\\Users\\PARK\\AppData\\Local\\Temp\\ipykernel_764\\2409839036.py\", line 4, in convert\n",
      "    if a.isdigit():  #숫자로만 이루어져있는지 판별\n",
      "       ^^^^^^^^^\n",
      "AttributeError: 'tuple' object has no attribute 'isdigit'\n"
     ]
    }
   ],
   "source": [
    "import traceback # 에러메시지를 출력해주는 모듈입니다\n",
    "\n",
    "def convert(a):\n",
    "    if a.isdigit():  #숫자로만 이루어져있는지 판별\n",
    "        return int(a[::-1])\n",
    "\n",
    "try:\n",
    "    #print(convert(54321)) #리스트가 아니라서\n",
    "    #print(convert('abcd')) #str으로 넣어서\n",
    "    print(convert((1,2,3,4)))\n",
    "except:\n",
    "    traceback.print_exc()"
   ]
  },
  {
   "cell_type": "markdown",
   "metadata": {},
   "source": [
    "# 예외를 응용하는 경우\n",
    "\n",
    "- EOF 예외처리를 합니다.\n",
    "    - EOL : End of Line (\\n)\n",
    "    - EOF : End Of File\n",
    "        - 파일의 가장 마지막에 들어가는 문자\n",
    "        - 입력이 끝을 표현하는 경우\n",
    "\n",
    "    - 파이썬은 EOF을 처리하지 못합니다.\n",
    "        - 언어의 끝을 예외로 처리합니다.\n",
    "\n",
    "    - 종료를 의미하는 단축키\n",
    "        - 윈 : ctrl + z\n",
    "        - 리눅스, 맥 : ctrl + d\n"
   ]
  },
  {
   "cell_type": "code",
   "execution_count": 154,
   "metadata": {},
   "outputs": [
    {
     "name": "stderr",
     "output_type": "stream",
     "text": [
      "<>:3: SyntaxWarning: invalid escape sequence '\\>'\n",
      "<>:3: SyntaxWarning: invalid escape sequence '\\>'\n",
      "C:\\Users\\PARK\\AppData\\Local\\Temp\\ipykernel_764\\3539234159.py:3: SyntaxWarning: invalid escape sequence '\\>'\n",
      "  read = input('c:\\>')\n"
     ]
    },
    {
     "name": "stdout",
     "output_type": "stream",
     "text": [
      "a\n",
      "e\n",
      "\n",
      "\n",
      "\n",
      "\n"
     ]
    }
   ],
   "source": [
    "while True:\n",
    "    try:        \n",
    "        read = input('c:\\>')\n",
    "        print(read)\n",
    "    except EOFError : #에러를 응용하는 사례\n",
    "        print('실행이 강제종료 되었습니다')\n",
    "        break"
   ]
  },
  {
   "cell_type": "code",
   "execution_count": null,
   "metadata": {},
   "outputs": [],
   "source": [
    "while True:\n",
    "    # try:\n",
    "        read = input('c:\\>')\n",
    "        if read != 'x':\n",
    "            print(read)\n",
    "        else:\n",
    "            raise EOFError # raise 명령어로 강제로 에러를 발생시킬 수 있습니다.\n",
    "\n",
    "\n",
    "    # except KeyboardInterrupt:\n",
    "    #     print('실행이 강제종료1 되었습니다')\n",
    "    #     break\n",
    "        \n",
    "    # except EOFError: # 예외를 응용하는 사례\n",
    "    #     print('실행이 강제종료 되었습니다')\n",
    "    #     break"
   ]
  },
  {
   "cell_type": "code",
   "execution_count": 160,
   "metadata": {},
   "outputs": [
    {
     "data": {
      "text/plain": [
       "[ZeroDivisionError, ArithmeticError, Exception, BaseException, object]"
      ]
     },
     "execution_count": 160,
     "metadata": {},
     "output_type": "execute_result"
    }
   ],
   "source": [
    "ZeroDivisionError.mro()"
   ]
  },
  {
   "cell_type": "code",
   "execution_count": 181,
   "metadata": {},
   "outputs": [
    {
     "name": "stdout",
     "output_type": "stream",
     "text": [
      "a\n",
      "2\n",
      "🚧🚧 index 에러 발생 🚧🚧\n",
      "🚧🚧 tuple index out of range\n",
      "Traceback (most recent call last):\n",
      "  File \"C:\\Users\\PARK\\AppData\\Local\\Temp\\ipykernel_764\\2276434646.py\", line 5, in <module>\n",
      "    for a, b in enumerate(zip(alist, blist)): print(b[a])\n",
      "                                                    ~^^^\n",
      "IndexError: tuple index out of range\n",
      "\n"
     ]
    }
   ],
   "source": [
    "alist = [\"a\", \"1\", \"c\"]\n",
    "blist = [\"b\", \"2\", \"d\"]\n",
    "import traceback\n",
    "try : #동작할부분\n",
    "    for a, b in enumerate(zip(alist, blist)): print(b[a])\n",
    "except IndexError as a:\n",
    "    print(f'🚧🚧 index 에러 발생 🚧🚧\\n🚧🚧 {a}')\n",
    "    print(traceback.format_exc()) #print안에 넣어줘야함\n",
    "    \n",
    "except BaseException :\n",
    "    print('다른 에러 발생')\n"
   ]
  },
  {
   "cell_type": "code",
   "execution_count": 176,
   "metadata": {},
   "outputs": [
    {
     "name": "stdout",
     "output_type": "stream",
     "text": [
      "7\n",
      "3\n",
      "2\n",
      "1\n",
      "1\n",
      "1\n",
      "실행이 잘되엇습니다.\n"
     ]
    }
   ],
   "source": [
    "try :\n",
    "    for i in range(1, 7):\n",
    "        result = 7 // i\n",
    "        print(result)\n",
    "    print('실행이 잘되엇습니다.')\n",
    "except ValueError :\n",
    "    print('ValueError 발생')"
   ]
  },
  {
   "cell_type": "code",
   "execution_count": 184,
   "metadata": {},
   "outputs": [
    {
     "name": "stdout",
     "output_type": "stream",
     "text": [
      "모를 다른 에러 발생\n"
     ]
    }
   ],
   "source": [
    "try :\n",
    "    for i in range(0, 7):\n",
    "        result = 7 // a\n",
    "        print(result)\n",
    "    print('실행이 잘되엇습니다.')\n",
    "except ZeroDivisionError :\n",
    "    print('ZeroDivisionError 발생')\n",
    "except BaseException :\n",
    "    print('모를 다른 에러 발생')\n",
    "        "
   ]
  },
  {
   "cell_type": "code",
   "execution_count": 187,
   "metadata": {},
   "outputs": [
    {
     "name": "stdout",
     "output_type": "stream",
     "text": [
      "파일이 없는걸?\n"
     ]
    }
   ],
   "source": [
    "#아래 코드에서 발생할 예외를 예측하고, try, except 구문으로 해당 예외를 처리해주세요.\n",
    "try:\n",
    "    f = open('testex.txt', 'r') #read모드로 textex.txt를 열어주세요 하지만 없음\n",
    "except FileNotFoundError:\n",
    "    print('파일이 없는걸?')\n",
    "except:\n",
    "    print(\"그외의 문제 발생\")\n",
    "\n"
   ]
  },
  {
   "cell_type": "code",
   "execution_count": 189,
   "metadata": {},
   "outputs": [
    {
     "name": "stdout",
     "output_type": "stream",
     "text": [
      "Overwriting test_library/testex.txt\n"
     ]
    }
   ],
   "source": [
    "%%writefile test_library/testex.txt\n",
    "\n",
    "안녕하세요\n",
    "오늘은\n",
    "\n",
    "    070-8919-1203 에 전화하면 시를 읽어줍니다."
   ]
  },
  {
   "cell_type": "code",
   "execution_count": 193,
   "metadata": {},
   "outputs": [],
   "source": [
    "with open('testex.txt','a')as f: #w 쓰기 a 추가하다 r 읽기\n",
    "    f.write('hello\\n')\n",
    "    f.write('한글은 깨집니다.\\n')"
   ]
  },
  {
   "cell_type": "code",
   "execution_count": 201,
   "metadata": {},
   "outputs": [],
   "source": [
    "f2 = open('testex2.txt','w')\n",
    "#testex2.txt. 생성  "
   ]
  },
  {
   "cell_type": "code",
   "execution_count": 199,
   "metadata": {},
   "outputs": [],
   "source": [
    "f2.write(\"hello\\n\")\n",
    "f2.write('second\\n')\n",
    "f2.close()  #이 방식은 안닫으면 안바뀜"
   ]
  },
  {
   "cell_type": "code",
   "execution_count": 203,
   "metadata": {},
   "outputs": [
    {
     "data": {
      "text/plain": [
       "<_io.TextIOWrapper name='testex2.txt' mode='w' encoding='cp949'>"
      ]
     },
     "execution_count": 203,
     "metadata": {},
     "output_type": "execute_result"
    }
   ],
   "source": [
    "f2"
   ]
  },
  {
   "cell_type": "code",
   "execution_count": 206,
   "metadata": {},
   "outputs": [
    {
     "name": "stdout",
     "output_type": "stream",
     "text": [
      "['_CHUNK_SIZE', '__class__', '__del__', '__delattr__', '__dict__', '__dir__', '__doc__', '__enter__', '__eq__', '__exit__', '__format__', '__ge__', '__getattribute__', '__getstate__', '__gt__', '__hash__', '__init__', '__init_subclass__', '__iter__', '__le__', '__lt__', '__module__', '__ne__', '__new__', '__next__', '__reduce__', '__reduce_ex__', '__repr__', '__setattr__', '__sizeof__', '__str__', '__subclasshook__', '_checkClosed', '_checkReadable', '_checkSeekable', '_checkWritable', '_finalizing', 'buffer', 'close', 'closed', 'detach', 'encoding', 'errors', 'fileno', 'flush', 'isatty', 'line_buffering', 'mode', 'name', 'newlines', 'read', 'readable', 'readline', 'readlines', 'reconfigure', 'seek', 'seekable', 'tell', 'truncate', 'writable', 'write', 'write_through', 'writelines']\n"
     ]
    },
    {
     "data": {
      "text/plain": [
       "2151194953312"
      ]
     },
     "execution_count": 206,
     "metadata": {},
     "output_type": "execute_result"
    }
   ],
   "source": [
    "print(dir(f2))\n",
    "id(f2)"
   ]
  },
  {
   "cell_type": "code",
   "execution_count": 208,
   "metadata": {},
   "outputs": [],
   "source": [
    "f2.close()"
   ]
  },
  {
   "cell_type": "code",
   "execution_count": 209,
   "metadata": {},
   "outputs": [],
   "source": [
    "f3 = open('testex3.txt','w')"
   ]
  },
  {
   "cell_type": "code",
   "execution_count": 211,
   "metadata": {},
   "outputs": [
    {
     "ename": "SyntaxError",
     "evalue": "invalid syntax (1108515159.py, line 1)",
     "output_type": "error",
     "traceback": [
      "\u001b[1;36m  Cell \u001b[1;32mIn[211], line 1\u001b[1;36m\u001b[0m\n\u001b[1;33m    print('testex3.txt 에 넣어주세요', file=f3) 파일을 안닫으면 메모리에 있던 것이 올라가지 않는다\u001b[0m\n\u001b[1;37m                                          ^\u001b[0m\n\u001b[1;31mSyntaxError\u001b[0m\u001b[1;31m:\u001b[0m invalid syntax\n"
     ]
    }
   ],
   "source": [
    "print('testex3.txt 에 넣어주세요', file=f3) 파일을 안닫으면 메모리에 있던 것이 올라가지 않는다\n"
   ]
  },
  {
   "cell_type": "code",
   "execution_count": 212,
   "metadata": {},
   "outputs": [],
   "source": [
    "f3.close()"
   ]
  },
  {
   "cell_type": "code",
   "execution_count": 214,
   "metadata": {},
   "outputs": [],
   "source": [
    "f4 = open('testex4.txt','w')\n",
    "print('testex4.txt print', file=f4,flush=True)  #flush=True로 디폴트값을 바꿈 flush = False가 디폴트값으로 파일을 안닫아도 들어간다\n",
    "\n",
    "#f4의 객체는 메모리에 존재한다. 이를 메모리 안에서 해결하고 하드디스크에 즉 기억장치에 적어내는데\n",
    "#효율을 생각해서 메모리에 계속 올려놨다가 다 쓰고 완료후에 닫을때 하드디스크에 한번에 옮기는 것이 효율이 좋기에\n",
    "# 기본적으로는 닫을떄 한번에 올리게 된다"
   ]
  },
  {
   "cell_type": "code",
   "execution_count": 215,
   "metadata": {},
   "outputs": [],
   "source": [
    "f4.close()"
   ]
  },
  {
   "cell_type": "code",
   "execution_count": 232,
   "metadata": {},
   "outputs": [
    {
     "name": "stdout",
     "output_type": "stream",
     "text": [
      "True\n",
      "안녕\n",
      "['하세요\\n', '두번째 줄입입니다.\\n', '안녕하세요\\n', '두번째 줄입입니다.\\n', 'hello\\n', '두번째 줄입입니다.\\n']\n"
     ]
    }
   ],
   "source": [
    "with open('testex.txt','r')as r: #w 쓰기 a 추가하다 r 읽기\n",
    "    #print(r.read()) #한번에 객체를 가져온다\n",
    "    print(r.readable())  #파일에 값이 있으면 True 없으면 False를 출력한다\n",
    "    print(r.readline(2)) #줄번호에 있는 값을 출력한다 없으면 첫번쨰 줄을 출력한다\n",
    "    print(r.readlines())\n",
    "    "
   ]
  },
  {
   "cell_type": "code",
   "execution_count": 240,
   "metadata": {},
   "outputs": [
    {
     "name": "stdout",
     "output_type": "stream",
     "text": [
      "두번째 줄입입니다.\n",
      "안녕하세요\n",
      "두번째 줄입입니다.\n",
      "hello\n",
      "두번째 줄입입니다.\n",
      "\n",
      "\n",
      "\n",
      "\n",
      "\n",
      "\n"
     ]
    }
   ],
   "source": [
    "with open('testex.txt','r') as r :\n",
    "    for i in r.readline():\n",
    "        print(r.read())"
   ]
  },
  {
   "cell_type": "code",
   "execution_count": 246,
   "metadata": {},
   "outputs": [
    {
     "name": "stdout",
     "output_type": "stream",
     "text": [
      "[]\n",
      "\n",
      "\n",
      "\n",
      "\n",
      "\n",
      "\n",
      "\n",
      "\n",
      "\n",
      "\n",
      "\n"
     ]
    }
   ],
   "source": [
    "# 파일이 있으면 그 파일의 내용을 모두 출력\n",
    "# 파일이 없으면 새로운 파일을 작성해서 '새 파일' \n",
    "# 파일을 다 쓰고 나서 close()로 닫아주기\n",
    "try:\n",
    "    f = open('testex5.txt', 'r')\n",
    "    # read 모드로 testex.txt를 열어주세요\n",
    "    text = f.readlines()\n",
    "    print(text)\n",
    "    for i in text:\n",
    "        print(i)\n",
    "\n",
    "except FileNotFoundError:\n",
    "    print('해당하는 파일이 없습니다.')\n",
    "    f = open('testex5.txt', 'w')\n",
    "    print('새파일을 만들었습니다.')\n",
    "\n",
    "else:\n",
    "    for i in 'testex5.txt':\n",
    "        print(f.read())\n",
    "finally: \n",
    "    f.close()"
   ]
  },
  {
   "cell_type": "markdown",
   "metadata": {},
   "source": [
    "# 객체지향 프로그래밍\n",
    "- OOP (Object Oriented Programming)\n",
    "- 언어는 언어이고 OOP는 개발 방법론 중에 하나일 뿐입니다.\n",
    "    - 소프트웨어를 관리하고 개발하는 전체 과정에 대한 얘기\n",
    "    - 객체지향은 개념(기술, 정의)일 뿐입니다.\n",
    "    - 소프트웨어 공학\n",
    "        - 기획 -> 요구사항분석 -> 설계 -> 개발 -> 배포 -> 유지보수\n",
    "        - 클래스나 객체는 소프트웨어를 기획하고, 만들고, 관리하는 방법일 뿐입니다.\n",
    "\n",
    "        - 파이썬에만 있지 않습니다.\n",
    "        - 파이썬은 완벽한 객체지향 언어도 아닙니다. __ -> 숨어있는것으로 한다 라고 약속했다고\n",
    "\n",
    "- 추상 : 여러 가지 사물이나 개념에서 공통되는 특성이나 속성 따위를 추출하여 파악하는 작용. - interface\n",
    "- 상속 : 뒤를 이음. (특정 기능, 속성을 물려받음) - extends ~~\n",
    "- 캡슐(은닉) : 감춤. ~~ private\n",
    "- 다형 :  구성 단위가 같고 그 배열 상태만 다른 것. add(1, 3), add(1, 3, 5)\n",
    "\n",
    "\n",
    "TV를 보는 사람\n",
    " - TV - 켜다 / 사람 - 보다 / 소파 -  기대게 해줌\n",
    "\n",
    "TV를 옮기는 사람\n",
    "- TV - 50KG / 사람 - 들다 / 소파 - 필요없음\n",
    "\n",
    "\n",
    "```\n",
    "- TV (객체1)\n",
    "    - 동작(기능) = 메소드, 함수\n",
    "        - 켜다\n",
    "        - 끄다\n",
    "        - 소리를 키우다\n",
    "        - 채널을 돌리다\n",
    "\n",
    "    - 속성 = 데이터\n",
    "        - LED\n",
    "        - 50KG\n",
    "        - 검은색\n",
    "\n",
    "- 사람 (객체2)\n",
    "  - 먹다\n",
    "  - 보다\n",
    "  - 듣다\n",
    "  - 프로그래밍하다\n",
    "  - 성별\n",
    "  - 몸무게 NKG\n",
    "\n",
    "- 소파 (객체3)\n",
    "   - 흰색\n",
    "   - 100KG\n",
    "```\n",
    "\n",
    "\n",
    "# 클래스\n",
    "    - 사용자가 정의하는 새로운 타입\n",
    "    - int, bool, str, float, list, tuple, range .... -> 파이썬에서 미리 만들어둔 클래스들입니다.\n",
    "    - 이렇게 파이썬이 자체 제공하는 클래스(사람들이 자주 사용하는 클래스) 외에도 사용자가 직접 타입을 지정할 수 있습니다.\n",
    "    -> 새로운 클래스를 만들어서\n",
    "\n",
    "    - 파이썬은 클래스가 아닌 게 없습니다 - 함수도 클래스로 정의되어 있습니다.\n",
    "\n",
    "```\n",
    "class ClassName:\n",
    "    클래스 블록\n",
    "```"
   ]
  },
  {
   "cell_type": "code",
   "execution_count": 247,
   "metadata": {},
   "outputs": [],
   "source": [
    "#함수는 특정 클래스에 구애 받지 않고 동일하게 실행되는것\n",
    "# print, int, str, \n",
    "#append 같은 경우는 list안에서만 사용가능이기에 클래스가 아님 클래스안에 있는 메소드로 본다\n",
    "class Person:\n",
    "    name = '이름'\n",
    "    age  = 0\n",
    "    def introduce():\n",
    "        print('안녕하세요!')"
   ]
  },
  {
   "cell_type": "code",
   "execution_count": 252,
   "metadata": {},
   "outputs": [
    {
     "data": {
      "text/plain": [
       "['__class__',\n",
       " '__delattr__',\n",
       " '__dict__',\n",
       " '__dir__',\n",
       " '__doc__',\n",
       " '__eq__',\n",
       " '__format__',\n",
       " '__ge__',\n",
       " '__getattribute__',\n",
       " '__getstate__',\n",
       " '__gt__',\n",
       " '__hash__',\n",
       " '__init__',\n",
       " '__init_subclass__',\n",
       " '__le__',\n",
       " '__lt__',\n",
       " '__module__',\n",
       " '__ne__',\n",
       " '__new__',\n",
       " '__reduce__',\n",
       " '__reduce_ex__',\n",
       " '__repr__',\n",
       " '__setattr__',\n",
       " '__sizeof__',\n",
       " '__str__',\n",
       " '__subclasshook__',\n",
       " '__weakref__',\n",
       " 'age',\n",
       " 'introduce',\n",
       " 'name']"
      ]
     },
     "execution_count": 252,
     "metadata": {},
     "output_type": "execute_result"
    }
   ],
   "source": [
    "park = Person()\n",
    "type(park)\n",
    "dir(park)"
   ]
  },
  {
   "cell_type": "code",
   "execution_count": 257,
   "metadata": {},
   "outputs": [
    {
     "data": {
      "text/plain": [
       "0"
      ]
     },
     "execution_count": 257,
     "metadata": {},
     "output_type": "execute_result"
    }
   ],
   "source": [
    "park.name\n",
    "park.age"
   ]
  },
  {
   "cell_type": "code",
   "execution_count": 258,
   "metadata": {},
   "outputs": [
    {
     "name": "stdout",
     "output_type": "stream",
     "text": [
      "안녕하세요!\n"
     ]
    }
   ],
   "source": [
    "Person.introduce()"
   ]
  },
  {
   "cell_type": "markdown",
   "metadata": {},
   "source": [
    "- 클래스 외에 모든 변수, 함수명은 snake_case를 권장합니다.\n",
    "- 클래스는 첫 글자부터 대문자로 시작해서 띄어쓰기 대신 대문자를 사용하는 CamelCase를 권장합니다.\n",
    "- 안 해도 동작은 하지만 약속입니다.\n",
    "    - 클래스는 함수, 변수를 담는 존재기 때문에 크게 간다\n",
    "    - int, float, list 왜 소문자냐면 잘 알려져 있는 파이썬의 기본 클래스이기 때문에 그냥 소문자로 표현합니다.\n",
    "\n",
    "# 객체\n",
    "\n",
    "- object 또는 instance\n",
    "- 변수의 확장된 형태\n",
    "    - 클래스도 객체로 다뤄지긴 합니다\n",
    "- 클래스는 정의\n",
    "- 객체는 클래스를 통해 만들어진 애들도 객체라고 부릅니다.\n",
    "\n",
    "```\n",
    "__main__.Person              at        0x7fd9a2167e50\n",
    "________________                       _______________\n",
    "객체의 타입(어떤 클래스인지)        객체의 주소\n",
    "```\n",
    "\n",
    "### 비교. 함수와 메소드\n",
    "- 엄격하게 구분해서\n",
    "- 객체 안에 만들어진 함수는 메소드\n",
    "- 근데 파이썬에는 혼용해서 많이 쓰입니다. 걍 '함수'\n",
    "\n",
    "# 객체와 인스턴스\n",
    "\n",
    "- 클래스로 만든 객체를 인스턴스라고 부릅니다.\n",
    "- 우영우 = Person() 이렇게 만든 우영우는 우영우만 따로 불리울 때는 객체 라고 부르고요\n",
    "\n",
    "- 인스턴스는 **클래스와 객체의 관계**를 설명할 때 주로 쓰여요.\n",
    "- 우영우는 Person의 인스턴스라고 부릅니다.\n",
    "\n",
    "- 우영우만 부를 때는 '우영우는 객체' 라고 부르고\n",
    "- Person과의 관계를 부를 때는 '우영우는 Person의 인스턴스'라고 보통 부릅니다.\n"
   ]
  },
  {
   "cell_type": "code",
   "execution_count": 260,
   "metadata": {},
   "outputs": [
    {
     "data": {
      "text/plain": [
       "2151177376960"
      ]
     },
     "execution_count": 260,
     "metadata": {},
     "output_type": "execute_result"
    }
   ],
   "source": [
    "짱구 = Person()\n",
    "id(Person)\n",
    "id(짱구)"
   ]
  },
  {
   "cell_type": "code",
   "execution_count": 265,
   "metadata": {},
   "outputs": [
    {
     "name": "stdout",
     "output_type": "stream",
     "text": [
      "박은채\n",
      "이름\n"
     ]
    }
   ],
   "source": [
    "park.name = '박은채'\n",
    "print(park.name)\n",
    "print(짱구.name)"
   ]
  },
  {
   "cell_type": "code",
   "execution_count": null,
   "metadata": {},
   "outputs": [],
   "source": []
  },
  {
   "cell_type": "code",
   "execution_count": 266,
   "metadata": {},
   "outputs": [
    {
     "ename": "TypeError",
     "evalue": "Person.introduce() takes 0 positional arguments but 1 was given",
     "output_type": "error",
     "traceback": [
      "\u001b[1;31m---------------------------------------------------------------------------\u001b[0m",
      "\u001b[1;31mTypeError\u001b[0m                                 Traceback (most recent call last)",
      "Cell \u001b[1;32mIn[266], line 1\u001b[0m\n\u001b[1;32m----> 1\u001b[0m \u001b[43mpark\u001b[49m\u001b[38;5;241;43m.\u001b[39;49m\u001b[43mintroduce\u001b[49m\u001b[43m(\u001b[49m\u001b[43m)\u001b[49m\n",
      "\u001b[1;31mTypeError\u001b[0m: Person.introduce() takes 0 positional arguments but 1 was given"
     ]
    }
   ],
   "source": [
    "park.introduce() #실행이 되지 않는다. person이라는 클래스와 park이라는 인스턴스는 별개이다\n",
    "#이때 self라는 명령어를 통해서 인스턴스의 메모리 주소에 함수를 물려준다"
   ]
  },
  {
   "cell_type": "code",
   "execution_count": 288,
   "metadata": {},
   "outputs": [],
   "source": [
    "class Person:\n",
    "    name = '이름' #클래스 변수\n",
    "    age  = 0\n",
    "    def introduce1():\n",
    "        print('안녕하세요!')\n",
    "    def introduce2(self):\n",
    "        print(self)\n",
    "        print(f'{self.name}안녕하세요!')"
   ]
  },
  {
   "cell_type": "code",
   "execution_count": 286,
   "metadata": {},
   "outputs": [],
   "source": [
    "박은채 = Person()"
   ]
  },
  {
   "cell_type": "code",
   "execution_count": 290,
   "metadata": {},
   "outputs": [
    {
     "data": {
      "text/plain": [
       "False"
      ]
     },
     "execution_count": 290,
     "metadata": {},
     "output_type": "execute_result"
    }
   ],
   "source": [
    "id(박은채.name) == id(Person.name)"
   ]
  },
  {
   "cell_type": "markdown",
   "metadata": {},
   "source": [
    "초기에는 클래스의 기본값을 인스터스도 같이 가리키고 있으나 인스터스 변수를 바꾸게 되면서 새로운 메모리주소를 갖게 된다.\n",
    "변경하기 전게 클래스의 기본값을 먼저 바꾸면 인스턴스의 기본값또한 바뀌게 된다.\n"
   ]
  },
  {
   "cell_type": "code",
   "execution_count": 287,
   "metadata": {},
   "outputs": [
    {
     "name": "stdout",
     "output_type": "stream",
     "text": [
      "박은채\n",
      "<__main__.Person object at 0x000001F4DCF9C290>\n",
      "박은채안녕하세요!\n"
     ]
    }
   ],
   "source": [
    "박은채.name = '박은채'\n",
    "print(박은채.name)\n",
    "박은채.introduce2()"
   ]
  },
  {
   "cell_type": "code",
   "execution_count": null,
   "metadata": {},
   "outputs": [],
   "source": [
    "#클래스가 설계도 이고 인스터스가 설계도를 바탕으로한 집\n",
    "#객체지향프로그래밍 - 주제 중심으로 속성(변수), 동작(함수)을 묶어서 관리하는 프로그래밍 방식\n"
   ]
  },
  {
   "cell_type": "code",
   "execution_count": 325,
   "metadata": {},
   "outputs": [],
   "source": [
    "## 실습. Car라는 클래스를 만들어주세요.\n",
    "# - 속성: name - 차종(str), cc - 배기량(int), is_kor 국산차여부(bool), colors  희망색깔(1,2,3순위, list)을 가집니다.\n",
    "# - 1개의 차량 인스턴스를 만들어주세요\n",
    "# - 그리고 morning이라는 인스턴스를 하나 만들어주세요\n",
    "# - 기능: '정기검사를 받으셔야 합니다'라는 안내메시지가 출력되는\n",
    "# check라는 메소드를 실행할 수 있습니다\n",
    "class Car:\n",
    "    #name = '차종' #클래스 변수 이걸 바꾸면 찍어낸 인스터스내에서의 클래스변수도 바뀜\n",
    "    #age  = 0        #모든 인스터스가 공유하는 속성에 사용한다.\n",
    "    #cc = 0\n",
    "    #is_kor = True\n",
    "    #colors = '색'\n",
    "    #wish_color = ['1','2','3']\n",
    "    final_num =0\n",
    "\n",
    "    def __init__(self,name,cc): #클래스와 무관하게 전혀 다른 메모리자리에 만들도록 한다.\n",
    "        self.name = name\n",
    "        self.age = 0\n",
    "        self.cc = cc\n",
    "        self.is_kor = True\n",
    "        self.num = Car.final_num #지금 생성된 인스턴트의 번호\n",
    "        Car.final_num += 1\n",
    "    #클래스 함수\n",
    "    def print_final_num(): #self가 안들어있다.\n",
    "        print(f'{Car.final_num}개의 차량정보가 있습니다.')\n",
    "    def check(self): #인스터스메소드 morning.check()\n",
    "        print('정기검사를 받으셔야합니다.')"
   ]
  },
  {
   "cell_type": "code",
   "execution_count": null,
   "metadata": {},
   "outputs": [],
   "source": [
    "#__init__ 함수가 생성될떄 딱 한번만 실행된다."
   ]
  },
  {
   "cell_type": "code",
   "execution_count": 326,
   "metadata": {},
   "outputs": [],
   "source": [
    "morning=Car('모닝',800) #이름과 cc입력\n"
   ]
  },
  {
   "cell_type": "code",
   "execution_count": 327,
   "metadata": {},
   "outputs": [
    {
     "name": "stdout",
     "output_type": "stream",
     "text": [
      "1\n",
      "0\n"
     ]
    }
   ],
   "source": [
    "print(Car.final_num)\n",
    "print(morning.num)\n"
   ]
  },
  {
   "cell_type": "code",
   "execution_count": 329,
   "metadata": {},
   "outputs": [
    {
     "name": "stdout",
     "output_type": "stream",
     "text": [
      "1개의 차량정보가 있습니다.\n"
     ]
    }
   ],
   "source": [
    "Car.print_final_num()"
   ]
  },
  {
   "cell_type": "code",
   "execution_count": 332,
   "metadata": {},
   "outputs": [
    {
     "name": "stdout",
     "output_type": "stream",
     "text": [
      "모닝\n",
      "800\n"
     ]
    }
   ],
   "source": [
    "print(morning.name)\n",
    "print(morning.cc)"
   ]
  }
 ],
 "metadata": {
  "kernelspec": {
   "display_name": "Python 3",
   "language": "python",
   "name": "python3"
  },
  "language_info": {
   "codemirror_mode": {
    "name": "ipython",
    "version": 3
   },
   "file_extension": ".py",
   "mimetype": "text/x-python",
   "name": "python",
   "nbconvert_exporter": "python",
   "pygments_lexer": "ipython3",
   "version": "3.12.3"
  }
 },
 "nbformat": 4,
 "nbformat_minor": 2
}
