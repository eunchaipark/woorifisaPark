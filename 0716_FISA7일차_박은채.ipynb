{
 "cells": [
  {
   "cell_type": "code",
   "execution_count": null,
   "metadata": {},
   "outputs": [],
   "source": []
  },
  {
   "cell_type": "markdown",
   "metadata": {},
   "source": [
    "# 상속 (inherit)\n",
    "- 클래스의 재사용성을 확대한 개념\n",
    "    - 잘 정의된 클래스가 있으면 다시 물려받아서 그대로 재사용\n",
    "\n",
    "- 클래스들의 관계\n",
    " - is-a 관계 (상속)\n",
    " - has-a 관계 (다른 클래스의 객체를 속성으로 갖는 경우)\n",
    "\n",
    "\n",
    "- 상속을 이용하면 클래스가 점점 확장\n",
    "    - 모든 학생은 사람 o\n",
    "    - 모든 사람은 학생 x\n",
    "    - is-a (Student **is a** Person)\n",
    "        - 학생은 사람이니까 사람이 갖는 속성이나 기능을 동일하게 사용할 수 있죠\n",
    "        - 학생 클래스를 만들 때 새로 정의하지 말고 사람 클래스를 물려받아서(상속받아서) 그대로 사용하고 나머지 추가 학생의 속성, 기능만 구현해주면 편합니다."
   ]
  },
  {
   "cell_type": "code",
   "execution_count": 81,
   "metadata": {},
   "outputs": [],
   "source": [
    "class Person:\n",
    "    nation = 'KOREA' # 클래스 변수, 공통 변수\n",
    "    def __init__(self):  #self는 자동으로 전달\n",
    "        self.age = 0\n",
    "        self.name = ''\n",
    "        self.nation = Person.nation\n",
    "    def __add__(self,other): #+연산자를 위한 던더메소드를 만들어줌\n",
    "        print(self.age + other.age)\n",
    "        print(f'{self.name}과{other.name}의 나이를 더하면 {self.age + other.age}')\n",
    "    def introduce(self):\n",
    "        print('안녕하세요',self.name,'입니다')\n",
    "        return f'{self.name}입니다'\n",
    "    #클래스에서 사용하기 위한 클래스 메소드\n",
    "    def check_nation(cls):\n",
    "        return f'현재 Person의 기본국적은 {cls.nation}입니다.'\n",
    "        "
   ]
  },
  {
   "cell_type": "code",
   "execution_count": 82,
   "metadata": {},
   "outputs": [
    {
     "name": "stdout",
     "output_type": "stream",
     "text": [
      "True\n",
      "False\n"
     ]
    }
   ],
   "source": [
    "park=Person()\n",
    "print(id(Person.nation) == id(park.nation))\n",
    "print(id(Person)==id(park))\n"
   ]
  },
  {
   "cell_type": "code",
   "execution_count": 83,
   "metadata": {},
   "outputs": [
    {
     "name": "stdout",
     "output_type": "stream",
     "text": [
      "44\n",
      "과의 나이를 더하면 44\n"
     ]
    }
   ],
   "source": [
    "park.age = 30\n",
    "kim=Person()\n",
    "kim.age= 14\n",
    "park + kim"
   ]
  },
  {
   "cell_type": "code",
   "execution_count": 84,
   "metadata": {},
   "outputs": [
    {
     "data": {
      "text/plain": [
       "True"
      ]
     },
     "execution_count": 84,
     "metadata": {},
     "output_type": "execute_result"
    }
   ],
   "source": [
    "id(park.nation) == id(Person.nation)\n"
   ]
  },
  {
   "cell_type": "code",
   "execution_count": 85,
   "metadata": {},
   "outputs": [],
   "source": [
    "Person.nation ='China'"
   ]
  },
  {
   "cell_type": "code",
   "execution_count": 86,
   "metadata": {},
   "outputs": [],
   "source": [
    "park.nation ='북한'"
   ]
  },
  {
   "cell_type": "code",
   "execution_count": 87,
   "metadata": {},
   "outputs": [
    {
     "data": {
      "text/plain": [
       "'현재 Person의 기본국적은 북한입니다.'"
      ]
     },
     "execution_count": 87,
     "metadata": {},
     "output_type": "execute_result"
    }
   ],
   "source": [
    "park.check_nation()"
   ]
  },
  {
   "cell_type": "code",
   "execution_count": 90,
   "metadata": {},
   "outputs": [
    {
     "name": "stdout",
     "output_type": "stream",
     "text": [
      "안녕하세요 eunchai 입니다\n"
     ]
    },
    {
     "data": {
      "text/plain": [
       "'eunchai입니다'"
      ]
     },
     "execution_count": 90,
     "metadata": {},
     "output_type": "execute_result"
    }
   ],
   "source": [
    "park.name = 'eunchai'\n",
    "park.introduce()"
   ]
  },
  {
   "cell_type": "code",
   "execution_count": 92,
   "metadata": {},
   "outputs": [],
   "source": [
    "class Car:\n",
    "    def __init__(self):  #self는 자동으로 전달\n",
    "        self.name = ''\n",
    "        self.cc = ''\n",
    "        self.age = 0\n",
    "        self.price = 0\n",
    "        self.made_korea = True\n",
    "        self.wish_color = [1,2,3]\n",
    "    def introduce(self):\n",
    "        print(self.name,' 은 정기검사를 받아야합니다.')\n",
    "    #클래스에서 사용하기 위한 클래스 메소드\n",
    "    def check_m(self):\n",
    "        print('현재 이차의 중고차 가격은 ',self.price *0.8,'입니다')\n",
    "        return f'현재 이차의 중고차 가격은 {self.price * 0.8}입니다.'\n"
   ]
  },
  {
   "cell_type": "code",
   "execution_count": 93,
   "metadata": {},
   "outputs": [],
   "source": [
    "sonata = Car\n",
    "sonata.price = 100"
   ]
  },
  {
   "cell_type": "code",
   "execution_count": 99,
   "metadata": {},
   "outputs": [
    {
     "name": "stdout",
     "output_type": "stream",
     "text": [
      "현재 이차의 중고차 가격은  80.0 입니다\n",
      "현재 이차의 중고차 가격은  80.0 입니다\n"
     ]
    },
    {
     "data": {
      "text/plain": [
       "'현재 이차의 중고차 가격은 80.0입니다.'"
      ]
     },
     "execution_count": 99,
     "metadata": {},
     "output_type": "execute_result"
    }
   ],
   "source": [
    "sonata.check_m(sonata)\n",
    "Car.check_m(sonata)"
   ]
  },
  {
   "cell_type": "code",
   "execution_count": 100,
   "metadata": {},
   "outputs": [
    {
     "data": {
      "text/plain": [
       "mappingproxy({'__module__': '__main__',\n",
       "              '__init__': <function __main__.Car.__init__(self)>,\n",
       "              'introduce': <function __main__.Car.introduce(self)>,\n",
       "              'check_m': <function __main__.Car.check_m(self)>,\n",
       "              '__dict__': <attribute '__dict__' of 'Car' objects>,\n",
       "              '__weakref__': <attribute '__weakref__' of 'Car' objects>,\n",
       "              '__doc__': None,\n",
       "              'price': 100})"
      ]
     },
     "execution_count": 100,
     "metadata": {},
     "output_type": "execute_result"
    }
   ],
   "source": [
    "sonata.__dict__"
   ]
  },
  {
   "cell_type": "code",
   "execution_count": 112,
   "metadata": {},
   "outputs": [],
   "source": [
    "class Car():\n",
    "\n",
    "    final_num = 0\n",
    "\n",
    "    def __init__(self, name, cc, is_kor, colors, year):\n",
    "        self.name = name\n",
    "        self.cc = cc\n",
    "        self.is_kor = is_kor\n",
    "        self.colors = colors\n",
    "        self.year = year\n",
    "        Car.final_num += 1\n",
    "\n",
    "    def __str__(self):\n",
    "        return f'name: {self.name}, cc: {self.cc}, is_kor: {self.is_kor}, color: {self.colors}, 연식:{self.year}'\n",
    "\n",
    "    def check(self):\n",
    "        if self.cc <= 10:\n",
    "            return '정기검사를 받으셔야 합니다'\n",
    "        else:\n",
    "            return '배기량이 충분하므로 아직은 괜찮습니다.'\n",
    "    @classmethod\n",
    "    def check_num(cls):\n",
    "        return f'누적 판매량: {cls.final_num}개'\n",
    "    def __gt__(self,other):\n",
    "        if self.cc > other.cc :\n",
    "            print(True)\n",
    "        else : print(False)\n",
    "    def __ge__(self,other):\n",
    "        if self.cc > other.cc :\n",
    "            print(True)\n",
    "        else : print(False)\n",
    "\n",
    "x = Car('람머르기니', 300, True, ['pink','blue', 'red'], 2020)\n",
    "y = Car('테슬라', 3000, True, ['pink','blue', 'red'], 2018)\n",
    "so = Car('G90', 11, True, ['pink','blue', 'red'], 2023)\n",
    "\n",
    "# 각 차의 배기량을 등호/부등호로 확인해서 더 큰 배기량이 있는 차의 cc를 출력하도록 던더메서드를 활용해보세요.\n",
    "# https://docs.python.org/ko/3.11/reference/datamodel.html#object.__eq__ 참조 \n",
    "\n",
    "# y > x 하면 3000 이 출력되도록 "
   ]
  },
  {
   "cell_type": "code",
   "execution_count": 118,
   "metadata": {},
   "outputs": [
    {
     "name": "stdout",
     "output_type": "stream",
     "text": [
      "True\n"
     ]
    }
   ],
   "source": [
    "x < y"
   ]
  },
  {
   "cell_type": "code",
   "execution_count": 122,
   "metadata": {},
   "outputs": [
    {
     "data": {
      "text/plain": [
       "dict_items([('k1', 'v1'), ('k2', 'v2')])"
      ]
     },
     "execution_count": 122,
     "metadata": {},
     "output_type": "execute_result"
    }
   ],
   "source": [
    "dict1 = {'k1': 'v1', 'k2': 'v2'}\n",
    "dict1.items()"
   ]
  },
  {
   "cell_type": "code",
   "execution_count": 129,
   "metadata": {},
   "outputs": [],
   "source": [
    "class abc:\n",
    "    def __call__():\n",
    "        print('abc')"
   ]
  },
  {
   "cell_type": "code",
   "execution_count": 130,
   "metadata": {},
   "outputs": [],
   "source": [
    "A = abc()"
   ]
  },
  {
   "cell_type": "code",
   "execution_count": 132,
   "metadata": {},
   "outputs": [
    {
     "data": {
      "text/plain": [
       "[__main__.abc, object]"
      ]
     },
     "execution_count": 132,
     "metadata": {},
     "output_type": "execute_result"
    }
   ],
   "source": [
    "abc.mro() #무엇이 상위인지 말해주는 함수"
   ]
  },
  {
   "cell_type": "code",
   "execution_count": 135,
   "metadata": {},
   "outputs": [
    {
     "data": {
      "text/plain": [
       "[__main__.Person, object]"
      ]
     },
     "execution_count": 135,
     "metadata": {},
     "output_type": "execute_result"
    }
   ],
   "source": [
    "Person.mro()"
   ]
  },
  {
   "cell_type": "code",
   "execution_count": 137,
   "metadata": {},
   "outputs": [],
   "source": [
    "class Car():\n",
    "\n",
    "    final_num = 0\n",
    "\n",
    "    def __init__(self, name, cc, is_kor, colors, year):\n",
    "        self.name = name\n",
    "        self.cc = cc\n",
    "        self.is_kor = is_kor\n",
    "        self.colors = colors\n",
    "        self.year = year\n",
    "        Car.final_num += 1\n",
    "\n",
    "    def __str__(self):\n",
    "        return f'name: {self.name}, cc: {self.cc}, is_kor: {self.is_kor}, color: {self.colors}, 연식:{self.year}'\n",
    "\n",
    "    def check(self):\n",
    "        if self.cc <= 10:\n",
    "            return '정기검사를 받으셔야 합니다'\n",
    "        else:\n",
    "            return '배기량이 충분하므로 아직은 괜찮습니다.'\n",
    "\n",
    "    def __gt__(self, other): # 오버라이딩 - 바꿔씀  x > y   => x.__gt__(y)\n",
    "        if self.cc > other.cc:\n",
    "            return True\n",
    "        else:\n",
    "            return False\n",
    "\n",
    "    def __ge__(self, other): # 오버라이딩 - 바꿔씀  x >= y   => x.__ge__(y)\n",
    "        if self.cc >= other.cc:\n",
    "            return True\n",
    "        else:\n",
    "            return False\n",
    "\n",
    "    @classmethod  #현재 클래스 변수를 참조합니다.\n",
    "    def check_num(cls):\n",
    "        return f'누적 판매량: {cls.final_num}개'\n",
    "\n",
    "\n",
    "    @staticmethod  #이 메소드가 만들어진 클래스의 변수를 참조합니다.\n",
    "    def check_num1(cls):\n",
    "        return f'누적 판매량: {cls.final_num}개'\n",
    "\n",
    "\n",
    "\n"
   ]
  },
  {
   "cell_type": "code",
   "execution_count": 138,
   "metadata": {},
   "outputs": [],
   "source": [
    "x = Car('람머르기니', 300, True, ['pink','blue', 'red'], 2020)\n",
    "y = Car('테슬라', 3000, True, ['pink','blue', 'red'], 2018)\n",
    "so = Car('G90', 11, True, ['pink','blue', 'red'], 2023)\n",
    "\n",
    "# 각 차의 배기량을 등호/부등호로 확인해서 True/False로 리턴하도록 던더메서드를 활용해보세요.\n",
    "# https://docs.python.org/ko/3.11/reference/datamodel.html#object.__eq__ 참조 \n",
    "\n",
    "# y > x 하면 True\n",
    "# y == x 하면 False"
   ]
  },
  {
   "cell_type": "code",
   "execution_count": 140,
   "metadata": {},
   "outputs": [],
   "source": [
    "class SportsCar(Car):  #car의 속성과 기능을 상속받은 SportsCar라는 하위클래스\n",
    "    pass"
   ]
  },
  {
   "cell_type": "code",
   "execution_count": null,
   "metadata": {},
   "outputs": [],
   "source": [
    "x = SportsCar()\n",
    "#"
   ]
  },
  {
   "cell_type": "code",
   "execution_count": 145,
   "metadata": {},
   "outputs": [
    {
     "data": {
      "text/plain": [
       "'누적 판매량: 7개'"
      ]
     },
     "execution_count": 145,
     "metadata": {},
     "output_type": "execute_result"
    }
   ],
   "source": [
    "x = SportsCar('람머르기니', 300, True, ['pink','blue', 'red'], 2020)\n",
    "x.check_num()\n",
    "x.check_num1(x)"
   ]
  },
  {
   "cell_type": "code",
   "execution_count": 153,
   "metadata": {},
   "outputs": [],
   "source": [
    "class RegularCar(Car):\n",
    "    final_num =0\n",
    "    pass"
   ]
  },
  {
   "cell_type": "code",
   "execution_count": 154,
   "metadata": {},
   "outputs": [],
   "source": [
    "y = RegularCar('테슬라', 3000, True, ['pink','blue', 'red'], 2018)\n",
    "so = RegularCar('G90', 11, True, ['pink','blue', 'red'], 2023)\n"
   ]
  },
  {
   "cell_type": "code",
   "execution_count": 150,
   "metadata": {},
   "outputs": [
    {
     "data": {
      "text/plain": [
       "'누적 판매량: 11개'"
      ]
     },
     "execution_count": 150,
     "metadata": {},
     "output_type": "execute_result"
    }
   ],
   "source": [
    "y.check_num()"
   ]
  },
  {
   "cell_type": "code",
   "execution_count": 156,
   "metadata": {},
   "outputs": [
    {
     "data": {
      "text/plain": [
       "0"
      ]
     },
     "execution_count": 156,
     "metadata": {},
     "output_type": "execute_result"
    }
   ],
   "source": [
    "RegularCar.final_num #변수 오버라이딩"
   ]
  },
  {
   "cell_type": "code",
   "execution_count": 157,
   "metadata": {},
   "outputs": [],
   "source": [
    "class Car():\n",
    "\n",
    "    final_num = 0\n",
    "\n",
    "    def __init__(self, name, cc, is_kor, colors, year):\n",
    "        self.name = name\n",
    "        self.cc = cc\n",
    "        self.is_kor = is_kor\n",
    "        self.colors = colors\n",
    "        self.year = year\n",
    "        Car.final_num += 1\n",
    "\n",
    "    def __str__(self):\n",
    "        return f'name: {self.name}, cc: {self.cc}, is_kor: {self.is_kor}, color: {self.colors}, 연식:{self.year}'\n",
    "\n",
    "    def check(self):\n",
    "        if self.cc <= 10:\n",
    "            return '정기검사를 받으셔야 합니다'\n",
    "        else:\n",
    "            return '배기량이 충분하므로 아직은 괜찮습니다.'\n",
    "\n",
    "    def __gt__(self, other): # 오버라이딩 - 바꿔씀  x > y   => x.__gt__(y)\n",
    "        if self.cc > other.cc:\n",
    "            return True\n",
    "        else:\n",
    "            return False\n",
    "\n",
    "    def __ge__(self, other): # 오버라이딩 - 바꿔씀  x >= y   => x.__ge__(y)\n",
    "        if self.cc >= other.cc:\n",
    "            return True\n",
    "        else:\n",
    "            return False\n",
    "\n",
    "    @classmethod\n",
    "    def check_num(cls):\n",
    "        return f'누적 판매량: {cls.final_num}개'\n",
    "\n",
    "\n",
    "\n",
    "x = Car('람머르기니', 300, True, ['pink','blue', 'red'], 2020)\n",
    "y = Car('테슬라', 3000, True, ['pink','blue', 'red'], 2018)\n",
    "so = Car('G90', 11, True, ['pink','blue', 'red'], 2023)\n",
    "\n",
    "# 각 차의 배기량을 등호/부등호로 확인해서 True/False로 리턴하도록 던더메서드를 활용해보세요.\n",
    "# https://docs.python.org/ko/3.11/reference/datamodel.html#object.__eq__ 참조 \n",
    "\n",
    "# y > x 하면 True\n",
    "# y == x 하면 False\n"
   ]
  },
  {
   "cell_type": "code",
   "execution_count": 161,
   "metadata": {},
   "outputs": [],
   "source": [
    "class RegularCar(Car):\n",
    "    final_num = 0\n",
    "    def __init__(self, name, cc, is_kor, colors, year):\n",
    "        super().__init__(name, cc, is_kor, colors, year)\n",
    "        RegularCar.final_num += 1\n",
    "    def status():\n",
    "        print('일반 승용차입니다.')\n",
    "     "
   ]
  },
  {
   "cell_type": "code",
   "execution_count": 162,
   "metadata": {},
   "outputs": [
    {
     "data": {
      "text/plain": [
       "'누적 판매량: 3개'"
      ]
     },
     "execution_count": 162,
     "metadata": {},
     "output_type": "execute_result"
    }
   ],
   "source": [
    "Car.check_num()"
   ]
  },
  {
   "cell_type": "code",
   "execution_count": 165,
   "metadata": {},
   "outputs": [],
   "source": [
    "y = RegularCar('테슬라', 3000, True, ['pink','blue', 'red'], 2018)\n",
    "so = RegularCar('G90', 11, True, ['pink','blue', 'red'], 2023)\n"
   ]
  },
  {
   "cell_type": "markdown",
   "metadata": {},
   "source": [
    "# 클래스의 특징\n",
    "- 여러개의 변수와 함수를 하나의 타입으로 묶어놓은 것\n",
    "- Person이라는 타입에 name, age, nation, method(), method1(), method2() 까지가 현상태\n",
    "\n",
    "- 비슷한 특징을 가진 애들을 묶어놓으면 관리가 편해지는 장점을 얻을 수 있습니다.\n",
    "\n",
    "\n",
    "- 이렇게 묶어놓으면 발생하는 특징들(객체 지향 프로그래밍의 특징을 얻을 수 있다)\n",
    "    - 은닉성(캡슐화) : 클래스 안에 있어서 인스턴스로는 확인할 수 없게 보호하는 장치\n",
    "    - 상속: 클래스를 재사용할 수 있음\n",
    "    - 다형성\n",
    "        - 붕어빵 : 슈크림, 피자, 팥, 쑥...\n",
    "        - 하나의 타입 안에 다른 타입도 담을 수 있는 것\n",
    "        - 오버로딩, 오버라이딩\n",
    "\n",
    "    - 파이썬은 완벽한 객체지향을 제공하지 못합니다\n",
    "\n",
    "# 은닉성\n",
    "    - 클래스 안에 있어서 인스턴스로는 확인할 수 없게 보호하는 장치\n",
    "        - 외부에서 참조 불가하게 비공개화\n",
    "        - 속성이 정의는 되어있지만 외부에서 확일할 수 없는 메소드로 만드는 방식으로\n",
    "        - 파이썬은 비공개로 할 수 있는 방법이 없습니다\n",
    "        - 공개하고 싶지 않은 속성(기능) 이름 앞에 _를 붙이도록 약속하고 있습니다.\n",
    "        - 이름 앞에 _언더바가 붙어있으면 참조하지 않음. 해당 클래스 안에서만 씀. 이라고 약속할 뿐이에요."
   ]
  },
  {
   "cell_type": "code",
   "execution_count": 196,
   "metadata": {},
   "outputs": [],
   "source": [
    "# BankAccount라는 클래스를 만들어주세요. \n",
    "class BankAccount:\n",
    "\n",
    "    # _accont_num, _name, _balance, _password 라는 속성을 가집니다.\n",
    "    def __init__(self, _accont_num, _name, _balance, _password):\n",
    "        self._accont_num = _accont_num\n",
    "        self._name = _name\n",
    "        self._balance = _balance\n",
    "        self._password = _password\n",
    "\n",
    "    # get_pw() 인스턴스 메서드로 비밀번호를 조회만 할 수 있고\n",
    "    @property    # 함수를 변수처럼 부를 수 있게 됩니다.\n",
    "    def get_pw(self):\n",
    "        return self._password\n",
    "\n",
    "\n",
    "    # set_pw() 라는 인스턴스 메서드로 비밀번호를 변경만 할 수 있습니다. \n",
    "    def set_pw(self, _password): # set_pw('new')\n",
    "        self._password = _password\n",
    "    @property\n",
    "    # outer_balance() 라는 인스턴스 메서드로 금액을 확인만 할 수 있습니다. \n",
    "    def outer_balance(self):\n",
    "        return self._balance\n"
   ]
  },
  {
   "cell_type": "code",
   "execution_count": 197,
   "metadata": {},
   "outputs": [],
   "source": [
    "김연지 = BankAccount(1,'김연지',30000,'1234')"
   ]
  },
  {
   "cell_type": "code",
   "execution_count": 198,
   "metadata": {},
   "outputs": [
    {
     "data": {
      "text/plain": [
       "'1234'"
      ]
     },
     "execution_count": 198,
     "metadata": {},
     "output_type": "execute_result"
    }
   ],
   "source": [
    "김연지.get_pw"
   ]
  },
  {
   "cell_type": "code",
   "execution_count": 200,
   "metadata": {},
   "outputs": [
    {
     "data": {
      "text/plain": [
       "30000"
      ]
     },
     "execution_count": 200,
     "metadata": {},
     "output_type": "execute_result"
    }
   ],
   "source": [
    "김연지.outer_balance"
   ]
  },
  {
   "cell_type": "code",
   "execution_count": 201,
   "metadata": {},
   "outputs": [
    {
     "name": "stdout",
     "output_type": "stream",
     "text": [
      "마이너스 통장이 아닙니다. 음수보다 작은 밸런스는 가질 수 없어요\n"
     ]
    }
   ],
   "source": [
    "# BankAccount라는 클래스를 만들어주세요. \n",
    "class BankAccount:\n",
    "\n",
    "    # _accont_num, _name, _balance, _password 라는 속성을 가집니다.\n",
    "    def __init__(self, _accont_num, _name, _balance, _password):\n",
    "        self._accont_num = _accont_num\n",
    "        self._name = _name\n",
    "        self._balance = _balance\n",
    "        self._password = _password\n",
    "\n",
    "    # get_pw() 인스턴스 메서드로 비밀번호를 조회만 할 수 있고\n",
    "    @property    # getter 함수를 변수처럼 부를 수 있게 됩니다.\n",
    "    def get_pw(self):\n",
    "        return self._password\n",
    "\n",
    "\n",
    "    # set_pw() 라는 인스턴스 메서드로 비밀번호를 변경만 할 수 있습니다. \n",
    "    # def set_pw(self, _password): # set_pw('new')\n",
    "    def set_pw(self, _password):\n",
    "        self._password = _password\n",
    "\n",
    "    # outer_balance() 라는 인스턴스 메서드로 금액을 확인만 할 수 있습니다. \n",
    "    @property\n",
    "    def outer_balance(self):\n",
    "        return self._balance\n",
    "\n",
    "    @outer_balance.setter # getter의 함수명과 일치해야 합니다.\n",
    "    def outer_balance(self, bal):\n",
    "        # 값이 0보다 큰지 비교해서 클때면 bal를 변경가능하게 조건을 확인하고\n",
    "        # 현실과 컴퓨터가 인지하는 자료의 갭을 줄일 때도 은닉성을 활용하기도 한다.\n",
    "        if bal > 0:\n",
    "            self._balance = bal\n",
    "        else:\n",
    "            print('마이너스 통장이 아닙니다. 음수보다 작은 밸런스는 가질 수 없어요')\n",
    "\n",
    "김연지 = BankAccount(1, '김연지', 30000, '1234')\n",
    "김연지.get_pw # 함수지만 이제 변수처럼 호출하게 됩니다.\n",
    "김연지.set_pw(1241)  # 변수명을 알려주면 ._password = 바꾼값 \n",
    "김연지.outer_balance # 함수를 변수처럼 사용합니다.\n",
    "김연지.outer_balance = -10"
   ]
  },
  {
   "cell_type": "code",
   "execution_count": null,
   "metadata": {},
   "outputs": [],
   "source": []
  },
  {
   "cell_type": "markdown",
   "metadata": {},
   "source": [
    "# StaticMethod / ClassMethod\n",
    "- 객체와 상관없이 참조 가능한 변수(클래스 변수)\n",
    "- 객체와 상관없이 참조 가능한 메소드\n",
    "    - 클래스 변수는 객체와 상관없이 참조 가능\n",
    "    - 메소드는 객체를 통해서만 호출 가능합니다\n",
    "        - 메소드를 통해서 클래스 변수를 참조하려면 반드시 객체가 필요한 상황이 발생했죠\n",
    "- 객체가 아닌 클래스를 통해서 호출할 수 있는 메소드"
   ]
  },
  {
   "cell_type": "markdown",
   "metadata": {},
   "source": [
    "# 은닉성을 약속한 속성에 어떻게 접근을 해야하는가?\n",
    "- 그럼에도 불구하고 공개해야 할 속성들이 있기 때문에\n",
    "    - getter setter를 따로 만들어서\n",
    "    - 메소드의 내부 속성에 대한 참조를 제공\n",
    "    - 메소드가 없으면, 참조하지 않는 것으로 약속합니다.\n",
    "\n",
    "- 파이썬에서 getter, setter 처리하는 방법\n",
    "    - 매직메소드를 다시 정의해서 getter와 setter의 동작을 다시 정의합니다.\n",
    "    - 데코레이터를 통해 getter와 setter를 정의할 수 있습니다.\n",
    "    - 파이썬에서 말하는 은닉성"
   ]
  },
  {
   "cell_type": "markdown",
   "metadata": {},
   "source": [
    "__ 언더바 2개를 놓아서 숨김속성을 만들수 있다."
   ]
  },
  {
   "cell_type": "markdown",
   "metadata": {},
   "source": [
    "### 맹글링(Mangling)\n",
    "- 속성(변수)의 이름을 변경하는 기능\n",
    "- 충돌을 방지하고자 나온 기능\n",
    "  - 상속할 때, 여러 클래스에서 정의된 속성 이름들이 같은 이름을 사용하는 경우\n",
    "  - 맹글링을 이용한 충돌을 방지할 수 있는 거죠\n",
    "- 속성 이름앞에 `__`를 붙여주면 됩니다. 언더바 2개\n",
    "  - 속성 이름이 자동으로 바뀝니다.\n",
    "  - `_클래스이름__속성이름`의 형태로 바뀝니다"
   ]
  },
  {
   "cell_type": "code",
   "execution_count": 204,
   "metadata": {},
   "outputs": [],
   "source": []
  },
  {
   "cell_type": "code",
   "execution_count": 212,
   "metadata": {},
   "outputs": [],
   "source": [
    "class InsAccount(BankAccount) : \n",
    "    def __init__(self, _accont_num, _name, _balance, _password, _has_ba):\n",
    "        self._accont_num = _accont_num\n",
    "        self._name = _name\n",
    "        self._balance = _balance\n",
    "        self._password = _password\n",
    "        self._has_ba = _has_ba\n",
    "    def check_ba(self):\n",
    "        if self._has_ba == True :\n",
    "            return '은행 계좌도 가지고 계시는군요'\n",
    "        else :\n",
    "            return '하나 만드실래요?'"
   ]
  },
  {
   "cell_type": "code",
   "execution_count": 213,
   "metadata": {},
   "outputs": [
    {
     "data": {
      "text/plain": [
       "'은행 계좌도 가지고 계시는군요'"
      ]
     },
     "execution_count": 213,
     "metadata": {},
     "output_type": "execute_result"
    }
   ],
   "source": [
    "qwe = InsAccount(1, '박은채', 30000, '1234',True)\n",
    "qwe.check_ba()"
   ]
  },
  {
   "cell_type": "code",
   "execution_count": 230,
   "metadata": {},
   "outputs": [],
   "source": [
    "class Product:\n",
    "        next_serial_number = 1\n",
    "        def __init__(self,name,num,price):\n",
    "            Product.next_serial_number += 1\n",
    "            self.name = name\n",
    "            self.num = num\n",
    "            self.price = price\n",
    "        def __str__(self):\n",
    "            return f\"일련번호: {self.serial_number}, 상품명: {self.name}, 수량: {self.num}, 가격: {self.price}원\""
   ]
  },
  {
   "cell_type": "code",
   "execution_count": 271,
   "metadata": {},
   "outputs": [],
   "source": [
    "class Plain:\n",
    "    def __init__(self):\n",
    "        self.accumulate = 0.5\n",
    "        self.benefit = 10000\n",
    "    def buy(self, item):\n",
    "        if isinstance(item, Product):\n",
    "  #          print(self.accumulate * Product.price)\n",
    "            print('구매할수 있습니다')\n",
    "        else :\n",
    "            print('바코드를 읽을수 없습니다.')\n",
    "    def review_ing(self,review):\n",
    "        if review == True:\n",
    "            self.rewview = '더블 적립끝'\n",
    "            print('더블 후기 적립')\n",
    "        else:\n",
    "            print('적립 없음')"
   ]
  },
  {
   "cell_type": "code",
   "execution_count": 272,
   "metadata": {},
   "outputs": [],
   "source": [
    "class Friends(Plain):\n",
    "    def __init__(self,name):\n",
    "        self.name = name\n",
    "        self.accumulate = 1\n",
    "        self.benefit = 90000\n",
    "        self.coupon_amount = 6000\n",
    "        self.coupon_count = 3\n",
    "\n"
   ]
  },
  {
   "cell_type": "code",
   "execution_count": 273,
   "metadata": {},
   "outputs": [],
   "source": [
    "class Purple(Friends):\n",
    "    def __init__(self,name):\n",
    "        self.name = name\n",
    "        self.accumulate = 3\n",
    "        self.benefit = 200000\n",
    "        self.coupon_amount = 20000\n",
    "        self.coupon_count = 5\n",
    "        self.more_benefit = '더블 후기 적립금 + 스페셜 기프트'\n"
   ]
  },
  {
   "cell_type": "code",
   "execution_count": 274,
   "metadata": {},
   "outputs": [],
   "source": [
    "새우깡 = Product('새우깡', 3, 1500)"
   ]
  },
  {
   "cell_type": "code",
   "execution_count": 275,
   "metadata": {},
   "outputs": [
    {
     "name": "stdout",
     "output_type": "stream",
     "text": [
      "구매할수 있습니다\n",
      "None\n",
      "구매할수 있습니다\n",
      "None\n",
      "더블 후기 적립\n",
      "None\n"
     ]
    }
   ],
   "source": [
    "print(Plain.buy(Plain,새우깡)) \n",
    "print(Plain.buy(Purple,새우깡))\n",
    "print(Purple.review_ing(Purple,True))\n",
    "#print(새우깡.price * Purple.accumulate)"
   ]
  },
  {
   "cell_type": "markdown",
   "metadata": {},
   "source": []
  },
  {
   "cell_type": "code",
   "execution_count": null,
   "metadata": {},
   "outputs": [],
   "source": []
  }
 ],
 "metadata": {
  "kernelspec": {
   "display_name": "Python 3",
   "language": "python",
   "name": "python3"
  },
  "language_info": {
   "codemirror_mode": {
    "name": "ipython",
    "version": 3
   },
   "file_extension": ".py",
   "mimetype": "text/x-python",
   "name": "python",
   "nbconvert_exporter": "python",
   "pygments_lexer": "ipython3",
   "version": "3.12.3"
  }
 },
 "nbformat": 4,
 "nbformat_minor": 2
}
